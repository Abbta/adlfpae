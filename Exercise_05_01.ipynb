{
  "cells": [
    {
      "cell_type": "markdown",
      "metadata": {
        "id": "rF2trPuyzm9C"
      },
      "source": [
        "# Exercise 5.1\n"
      ]
    },
    {
      "cell_type": "code",
      "execution_count": 1,
      "metadata": {
        "id": "ipcsUFDUzm9C"
      },
      "outputs": [],
      "source": [
        "import numpy as np\n",
        "import matplotlib.pyplot as plt"
      ]
    },
    {
      "cell_type": "markdown",
      "metadata": {
        "id": "MCJe_ITJzm9G"
      },
      "source": [
        "**Simple Network**\n",
        "\n",
        "We continue with the dataset first encountered in the previous exercise. Please refer to the discussion there for an introduction to the data and the learning objective.\n",
        "\n",
        "Here, we manually implement a simple network architecture"
      ]
    },
    {
      "cell_type": "code",
      "execution_count": null,
      "metadata": {
        "id": "NopU99AT9G7s"
      },
      "outputs": [],
      "source": [
        "# The code snippet below is responsible for downloading the dataset\n",
        "# - for example when running via Google Colab.\n",
        "#\n",
        "# You can also directly download the file using the link if you work\n",
        "# with a local setup (in that case, ignore the !wget)\n",
        "import os\n",
        "if not os.path.exists(\"winequality-white.csv\"):\n",
        "  !wget https://archive.ics.uci.edu/ml/machine-learning-databases/wine-quality/winequality-white.csv --no-check-certificate"
      ]
    },
    {
      "cell_type": "code",
      "execution_count": 151,
      "metadata": {
        "colab": {
          "base_uri": "https://localhost:8080/"
        },
        "id": "5ONqeI5Uzm9H",
        "outputId": "c2dcb965-291e-410f-faf1-5b75bdb0b018"
      },
      "outputs": [
        {
          "name": "stdout",
          "output_type": "stream",
          "text": [
            "data: (4898, 12)\n",
            "First example:\n",
            "Features: [6.100e+00 2.200e-01 4.900e-01 1.500e+00 5.100e-02 1.800e+01 8.700e+01\n",
            " 9.928e-01 3.300e+00 4.600e-01 9.600e+00]\n",
            "Quality: 5.0\n"
          ]
        }
      ],
      "source": [
        "# Before working with the data,\n",
        "# we download and prepare all features\n",
        "\n",
        "# load all examples from the file\n",
        "data = np.genfromtxt('winequality-white.csv',delimiter=\";\",skip_header=1)\n",
        "\n",
        "print(\"data:\", data.shape)\n",
        "\n",
        "# Prepare for proper training\n",
        "np.random.seed(1234)\n",
        "np.random.shuffle(data) # randomly sort examples\n",
        "\n",
        "# take the first 3000 examples for training\n",
        "# (remember array slicing from last week)\n",
        "X_train = data[:3000,:11] # all features except last column\n",
        "y_train = data[:3000,11]  # quality column\n",
        "\n",
        "# and the remaining examples for testing\n",
        "X_test = data[3000:,:11] # all features except last column\n",
        "y_test = data[3000:,11] # quality column\n",
        "\n",
        "print(\"First example:\")\n",
        "print(\"Features:\", X_train[0])\n",
        "print(\"Quality:\", y_train[0])"
      ]
    },
    {
      "cell_type": "markdown",
      "metadata": {
        "id": "jiwnyNHpzm9L"
      },
      "source": [
        "# Problems\n",
        "\n",
        "The goal is to implement the training of a neural network with one input layer, one hidden layer, and one output layer using gradient descent. We first (below) define the matrices and initialise with random values. We need W, b, W' and b'. The shapes will be:\n",
        "  * W: (number of hidden nodes, number of inputs) named `W`\n",
        "  * b: (number of hidden nodes) named `b`\n",
        "  * W': (number of hidden nodes) named `Wp`\n",
        "  * b': (one) named `bp`\n",
        "\n",
        "Your tasks are:     \n",
        "   * Implement a forward pass of the network as `dnn` (see below)\n",
        "   * Implement a function that uses one data point to update the weights using gradient descent. You can follow the `update_weights` skeleton below\n",
        "   * Now you can use the code below (training loop and evaluation) to train the network for multiple data points and even over several epochs. Try to find a set of hyperparameters (number of nodes in the hidden layer, learning rate, number of training epochs) that gives stable results. What is the best result (as measured by the loss on the training sample) you can get?"
      ]
    },
    {
      "cell_type": "code",
      "execution_count": 303,
      "metadata": {
        "id": "gRzvovJvkQB1",
        "outputId": "d3b82658-d45c-4a84-a79f-eee8a6db2bce"
      },
      "outputs": [
        {
          "name": "stdout",
          "output_type": "stream",
          "text": [
            "(11, 11)\n"
          ]
        }
      ],
      "source": [
        "# Initialise weights with suitable random distributions\n",
        "hidden_nodes = 11 # number of nodes in the hidden layer\n",
        "n_inputs = 11 # input features in the dataset\n",
        "\n",
        "W = np.random.randn(hidden_nodes,11)*np.sqrt(2./n_inputs)\n",
        "b = np.random.randn(hidden_nodes)*np.sqrt(2./n_inputs)\n",
        "Wp = np.random.randn(hidden_nodes)*np.sqrt(2./hidden_nodes)\n",
        "bp = np.random.randn((1))\n",
        "\n",
        "print(W.shape)"
      ]
    },
    {
      "cell_type": "code",
      "execution_count": 153,
      "metadata": {
        "id": "ZI4TGelKkQB2"
      },
      "outputs": [],
      "source": [
        "# You can use this implementation of the ReLu activation function\n",
        "def relu(x):\n",
        "    return np.maximum(x, 0)"
      ]
    },
    {
      "cell_type": "code",
      "execution_count": 154,
      "metadata": {
        "id": "qzR88W_okQB2"
      },
      "outputs": [],
      "source": [
        "def dnn(x,W,b,Wp,bp):\n",
        "    return Wp@relu(W@x+b)+bp"
      ]
    },
    {
      "cell_type": "code",
      "execution_count": 304,
      "metadata": {
        "id": "rFp4e-RhkQB3"
      },
      "outputs": [],
      "source": [
        "def update_weights(x,y, W, b, Wp, bp):\n",
        "\n",
        "    learning_rate =  1e-5\n",
        "\n",
        "    yhat=dnn(x,W,b,Wp,bp)\n",
        "\n",
        "    # TODO: Derive the gradient for each of W,b,Wp,bp by taking the partial\n",
        "    # derivative of the loss function with respect to the variable and\n",
        "    # then implement the resulting weight-update procedure\n",
        "    # See Hint 2 for additional information\n",
        "\n",
        "    gradbp=2*(yhat-y)\n",
        "    gradb=2*(yhat-y)*(Wp*(np.heaviside(W@x+b,0)))\n",
        "    gradWp=2*(yhat-y)*relu(W@x+b)\n",
        "    gradW=2*(yhat-y)*(np.outer((Wp*np.heaviside(W@x+b,0)),x))\n",
        "\n",
        "    # You might need these numpy functions:\n",
        "    # np.dot, np.outer, np.heaviside\n",
        "    # Hint: Use .shape and print statements to make sure all operations\n",
        "    # do what you want them to\n",
        "\n",
        "    # TODO: Update the weights/bias following the rule:  weight_new = weight_old - learning_rate * gradient\n",
        "    bp_new=bp-learning_rate*gradbp\n",
        "    b_new=b-learning_rate*gradb\n",
        "    Wp_new=Wp-learning_rate*gradWp\n",
        "    W_new=W-learning_rate*gradW\n",
        "\n",
        "    return W_new, b_new, Wp_new, bp_new # return the new weights"
      ]
    },
    {
      "cell_type": "markdown",
      "metadata": {
        "id": "guL8sB2ikQB3"
      },
      "source": [
        "# Training loop and evaluation below"
      ]
    },
    {
      "cell_type": "code",
      "execution_count": 323,
      "metadata": {
        "id": "uSr8cC6-kQB4"
      },
      "outputs": [
        {
          "name": "stdout",
          "output_type": "stream",
          "text": [
            "Epoch: 0 Train Loss: 0.6121242834241919 Test Loss: 0.6553311780002232\n",
            "Epoch: 1 Train Loss: 0.6119454225472422 Test Loss: 0.6554994794453981\n",
            "Epoch: 2 Train Loss: 0.6117951857717816 Test Loss: 0.6552279685288032\n",
            "Epoch: 3 Train Loss: 0.6116607853856407 Test Loss: 0.6550335119414269\n",
            "Epoch: 4 Train Loss: 0.6113986440411966 Test Loss: 0.6548882952473564\n",
            "Epoch: 5 Train Loss: 0.6112752969596056 Test Loss: 0.6544506297696427\n",
            "Epoch: 6 Train Loss: 0.6111824388952481 Test Loss: 0.6543146243771814\n",
            "Epoch: 7 Train Loss: 0.6111183035473028 Test Loss: 0.6538695306925925\n",
            "Epoch: 8 Train Loss: 0.6109623360238249 Test Loss: 0.6536732502986975\n",
            "Epoch: 9 Train Loss: 0.6107885327843783 Test Loss: 0.6535017752787176\n",
            "Epoch: 10 Train Loss: 0.6106454728637419 Test Loss: 0.6531922255489317\n",
            "Epoch: 11 Train Loss: 0.610518773569226 Test Loss: 0.6531209577014566\n",
            "Epoch: 12 Train Loss: 0.6103304654873605 Test Loss: 0.6529995991723355\n",
            "Epoch: 13 Train Loss: 0.6102040885454908 Test Loss: 0.6528757975253819\n",
            "Epoch: 14 Train Loss: 0.6100739132808055 Test Loss: 0.6525096277816037\n",
            "Epoch: 15 Train Loss: 0.6099421279203949 Test Loss: 0.6523146490610966\n",
            "Epoch: 16 Train Loss: 0.6097671830402651 Test Loss: 0.6522787199935879\n",
            "Epoch: 17 Train Loss: 0.6096604346228857 Test Loss: 0.6520820623373781\n",
            "Epoch: 18 Train Loss: 0.6095010079987189 Test Loss: 0.6519206644031784\n",
            "Epoch: 19 Train Loss: 0.609358896450657 Test Loss: 0.65187023480398\n",
            "Best loss: 0.65187023480398 Final loss: 0.65187023480398\n",
            "Correlation coefficient: 0.4688985366651552\n"
          ]
        },
        {
          "data": {
            "image/png": "[encoded data removed]",
            "text/plain": [
              "<Figure size 640x480 with 1 Axes>"
            ]
          },
          "metadata": {},
          "output_type": "display_data"
        },
        {
          "data": {
            "image/png": "[encoded data removed]",
            "text/plain": [
              "<Figure size 640x480 with 1 Axes>"
            ]
          },
          "metadata": {},
          "output_type": "display_data"
        }
      ],
      "source": [
        "# The code below implements the training.\n",
        "# If you correctly implement  dnn and update_weights above,\n",
        "# you should not need to change anything below.\n",
        "# (apart from increasing the number of epochs)\n",
        "\n",
        "train_losses = []\n",
        "test_losses = []\n",
        "\n",
        "# How many epochs to train\n",
        "# This will just train for one epoch\n",
        "# You will want a higher number once everything works\n",
        "n_epochs = 20\n",
        "\n",
        "# Loop over the epochs\n",
        "for ep in range(n_epochs):\n",
        "\n",
        "    # Each epoch is a complete over the training data\n",
        "    for i in range(X_train.shape[0]):\n",
        "\n",
        "        # pick one example\n",
        "        x = X_train[i]\n",
        "        y = y_train[i]\n",
        "\n",
        "        # use it to update the weights\n",
        "        W,b,Wp,bp = update_weights(x,y,W,b,Wp,bp)\n",
        "\n",
        "    # Calculate predictions for the full training and testing sample\n",
        "    y_pred_train = [dnn(x,W,b,Wp,bp)[0] for x in X_train]\n",
        "    y_pred = [dnn(x,W,b,Wp,bp)[0] for x in X_test]\n",
        "\n",
        "    # Calculate aver loss / example over the epoch\n",
        "    train_loss = sum((y_pred_train-y_train)**2) / y_train.shape[0]\n",
        "    test_loss = sum((y_pred-y_test)**2) / y_test.shape[0]\n",
        "\n",
        "    # print some information\n",
        "    print(\"Epoch:\",ep, \"Train Loss:\", train_loss, \"Test Loss:\", test_loss)\n",
        "\n",
        "    # and store the losses for later use\n",
        "    train_losses.append(train_loss)\n",
        "    test_losses.append(test_loss)\n",
        "\n",
        "\n",
        "# After the training:\n",
        "\n",
        "# Prepare scatter plot\n",
        "y_pred = [dnn(x,W,b,Wp,bp)[0] for x in X_test]\n",
        "\n",
        "print(\"Best loss:\", min(test_losses), \"Final loss:\", test_losses[-1])\n",
        "\n",
        "print(\"Correlation coefficient:\", np.corrcoef(y_pred,y_test)[0,1])\n",
        "plt.scatter(y_pred_train,y_train)\n",
        "plt.xlabel(\"Predicted\")\n",
        "plt.ylabel(\"True\")\n",
        "plt.show()\n",
        "\n",
        "# Prepare and loss over time\n",
        "plt.plot(train_losses,label=\"train\")\n",
        "plt.plot(test_losses,label=\"test\")\n",
        "plt.legend()\n",
        "plt.xlabel(\"Epoch\")\n",
        "plt.ylabel(\"Loss\")\n",
        "plt.show()\n"
      ]
    },
    {
      "cell_type": "code",
      "execution_count": null,
      "metadata": {},
      "outputs": [],
      "source": [
        "loss={50:0.616,150:1.64,20:0.615,11:0.597}\n",
        "#Takes quite a few epochs but this is the best i can manage from adaptively changing the learning rate."
      ]
    },
    {
      "cell_type": "markdown",
      "metadata": {
        "id": "4Nen08epkQB4"
      },
      "source": [
        "# Hint 1"
      ]
    },
    {
      "cell_type": "markdown",
      "metadata": {
        "id": "escPUs3CkQB5"
      },
      "source": [
        "We want a network with one hidden layer. As activiation in the hidden layer $\\sigma$ we apply element-wise ReLu, while no activation is used for the output layer. The forward pass of the network then reads:\n",
        "$$\\hat{y}=\\mathbf{W}^{\\prime} \\sigma(\\mathbf{W} \\vec{x}+\\vec{b})+b^{\\prime}$$"
      ]
    },
    {
      "cell_type": "markdown",
      "metadata": {
        "id": "_DRDzLi2kQB5"
      },
      "source": [
        "# Hint 2"
      ]
    },
    {
      "cell_type": "markdown",
      "metadata": {
        "id": "GN01itNUkQB5"
      },
      "source": [
        "For the regression problem the objective function is the mean squared error between the prediction and the true label $y$:\n",
        "$$\n",
        "L=(\\hat{y}-y)^{2}\n",
        "$$\n",
        "\n",
        "Taking the partial derivatives - and diligently the applying chain rule - with respect to the different objects yields:\n",
        "\n",
        "$$\n",
        "\\begin{aligned}\n",
        "\\frac{\\partial L}{\\partial b^{\\prime}} &=2(\\hat{y}-y) \\\\\n",
        "\\frac{\\partial L}{\\partial b_{k}} &=2(\\hat{y}-y) \\mathbf{W}_{k}^{\\prime} \\theta\\left(\\sum_{i} \\mathbf{W}_{k i} x_{i}+b_{k}\\right) \\\\\n",
        "\\frac{\\partial L}{\\partial \\mathbf{W}_{k}^{\\prime}} &=2(\\hat{y}-y) \\sigma\\left(\\sum_{i} \\mathbf{W}_{k i} x_{i}+b_{k}\\right) \\\\\n",
        "\\frac{\\partial L}{\\partial \\mathbf{W}_{k m}} &=2(\\hat{y}-y) \\mathbf{W}_{m}^{\\prime} \\theta\\left(\\sum_{i} \\mathbf{W}_{m i} x_{i}+b_{m}\\right) x_{k}\n",
        "\\end{aligned}\n",
        "$$\n",
        "\n",
        "Here, $\\Theta$ denotes the Heaviside step function."
      ]
    },
    {
      "cell_type": "markdown",
      "metadata": {},
      "source": [
        "## Comments\n",
        "We need a low ($<10^{-4}$) learning rate, otherwise we end up with all parameters except for $b'$ as 0. For performance one can start out with a few epochs with a higher learning rate and when loss graph becomes jagged learning rate can be decreased to really find the minimum. After trying a few values for number of hidden nodes the best performance is found for 11 nodes with a loss of 0.597. This is comparable to the linear regression, but still this shallow network performs poorly."
      ]
    }
  ],
  "metadata": {
    "colab": {
      "provenance": []
    },
    "kernelspec": {
      "display_name": "Python 3",
      "language": "python",
      "name": "python3"
    },
    "language_info": {
      "codemirror_mode": {
        "name": "ipython",
        "version": 3
      },
      "file_extension": ".py",
      "mimetype": "text/x-python",
      "name": "python",
      "nbconvert_exporter": "python",
      "pygments_lexer": "ipython3",
      "version": "3.10.11"
    }
  },
  "nbformat": 4,
  "nbformat_minor": 0
}

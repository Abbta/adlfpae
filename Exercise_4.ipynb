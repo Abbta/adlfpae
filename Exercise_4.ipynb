{
  "cells": [
    {
      "cell_type": "markdown",
      "metadata": {
        "id": "rF2trPuyzm9C"
      },
      "source": [
        "# Exercise 4\n"
      ]
    },
    {
      "cell_type": "code",
      "execution_count": 2,
      "metadata": {
        "id": "ipcsUFDUzm9C"
      },
      "outputs": [],
      "source": [
        "import numpy as np\n",
        "import matplotlib.pyplot as plt"
      ]
    },
    {
      "cell_type": "markdown",
      "metadata": {
        "id": "MCJe_ITJzm9G"
      },
      "source": [
        "**Linear Regression**\n",
        "\n",
        "The goal of this exercise is to explore a simple linear regression problem based on Portugese white wine.\n",
        "\n",
        "The dataset is based on\n",
        "Cortez, A. Cerdeira, F. Almeida, T. Matos and J. Reis. **Modeling wine preferences by data mining from physicochemical properties**. Published in Decision Support Systems, Elsevier, 47(4):547-553, 2009.\n",
        "\n"
      ]
    },
    {
      "cell_type": "code",
      "execution_count": 2,
      "metadata": {
        "colab": {
          "base_uri": "https://localhost:8080/"
        },
        "id": "NopU99AT9G7s",
        "outputId": "3570ddc7-186f-48db-f690-d732ebdd703b"
      },
      "outputs": [
        {
          "name": "stderr",
          "output_type": "stream",
          "text": [
            "'wget' is not recognized as an internal or external command,\n",
            "operable program or batch file.\n"
          ]
        }
      ],
      "source": [
        "# The code snippet below is responsible for downloading the dataset\n",
        "# - for example when running via Google Colab.\n",
        "#\n",
        "# You can also directly download the file using the link if you work\n",
        "# with a local setup (in that case, ignore the !wget)\n",
        "\n",
        "!wget https://archive.ics.uci.edu/ml/machine-learning-databases/wine-quality/winequality-white.csv"
      ]
    },
    {
      "cell_type": "markdown",
      "metadata": {
        "id": "zEiZ19s5zm9G"
      },
      "source": [
        "**Before we start**\n",
        "\n",
        "The downloaded file contains data on 4989 wines. For each wine 11 features are recorded (column 0 to 10). The final columns contains the quality of the wine. This is what we want to predict. More information on the features and the quality measurement is provided in the original publication.\n",
        "\n",
        "List of columns/features:\n",
        "0. fixed acidity\n",
        "1. volatile acidity\n",
        "2. citric acid\n",
        "3. residual sugar\n",
        "4. chlorides\n",
        "5. free sulfur dioxide\n",
        "6. total sulfur dioxide\n",
        "7. density\n",
        "8. pH\n",
        "9. sulphates\n",
        "10. alcohol\n",
        "11. quality\n",
        "\n",
        "\n",
        "\n",
        "[file]: https://archive.ics.uci.edu/ml/machine-learning-databases/wine-quality/winequality-white.csv"
      ]
    },
    {
      "cell_type": "code",
      "execution_count": 3,
      "metadata": {
        "colab": {
          "base_uri": "https://localhost:8080/"
        },
        "id": "5ONqeI5Uzm9H",
        "outputId": "85d6cef6-c9f5-446c-b5aa-6e7b96a419d4"
      },
      "outputs": [
        {
          "name": "stdout",
          "output_type": "stream",
          "text": [
            "data: (4898, 12)\n",
            "First example:\n",
            "Features: [6.100e+00 2.200e-01 4.900e-01 1.500e+00 5.100e-02 1.800e+01 8.700e+01\n",
            " 9.928e-01 3.300e+00 4.600e-01 9.600e+00]\n",
            "Quality: 5.0\n"
          ]
        }
      ],
      "source": [
        "# Before working with the data,\n",
        "# we download and prepare all features\n",
        "\n",
        "# load all examples from the file\n",
        "data = np.genfromtxt('winequality-white.csv',delimiter=\";\",skip_header=1)\n",
        "\n",
        "print(\"data:\", data.shape)\n",
        "\n",
        "# Prepare for proper training\n",
        "np.random.seed(1234) # set seed to get reproducable results\n",
        "np.random.shuffle(data) # randomly sort examples\n",
        "\n",
        "# take the first 3000 examples for training\n",
        "X_train = data[:3000,:11] # all features except last column\n",
        "y_train = data[:3000,11]  # quality column\n",
        "\n",
        "# and the remaining examples for testing\n",
        "X_test = data[3000:,:11] # all features except last column\n",
        "y_test = data[3000:,11] # quality column\n",
        "\n",
        "print(\"First example:\")\n",
        "print(\"Features:\", X_train[0])\n",
        "print(\"Quality:\", y_train[0])"
      ]
    },
    {
      "cell_type": "markdown",
      "metadata": {
        "id": "jiwnyNHpzm9L"
      },
      "source": [
        "# Problems\n",
        "\n",
        "\n",
        "* First we want to understand the data better. Plot (`plt.hist`) the distribution of each of the features for the training data as well as the 2D distribution (either `plt.scatter` or `plt.hist2d`) of each feature versus quality. Also calculate the correlation coefficient (`np.corrcoef`) for each feature with quality. Which feature by itself seems most predictive for the quality?\n",
        "\n",
        "* Calculate the linear regression weights. Numpy provides functions for matrix multiplication (`np.matmul`), matrix transposition (`.T`) and matrix inversion (`np.linalg.inv`).\n",
        "\n",
        "* Use the weights to predict the quality for the test dataset. How\n",
        "does your predicted quality compare with the true quality of the test data? Calculate the correlation coefficient between predicted and true quality and draw a scatter plot."
      ]
    },
    {
      "cell_type": "markdown",
      "metadata": {
        "id": "siD868R1oXgm"
      },
      "source": [
        "**Homework Submission**\n",
        "\n",
        "When you submit your exercise sheet, please alwasy do two things\n",
        "\n",
        "1) Generate a PDF of your iPython notebook. Submit this PDF through Studium\n",
        "\n",
        "2) Provide a link to your google colab notebook so that we can directly execute and test your code. To do that click on \"share\", change access to \"anyone with the link\", copy the link and add it as a comment to your submission on Studium."
      ]
    },
    {
      "cell_type": "markdown",
      "metadata": {
        "id": "-JyaU3ZDviXL"
      },
      "source": [
        "# Hints"
      ]
    },
    {
      "cell_type": "markdown",
      "metadata": {
        "id": "k2_gi8izviXM"
      },
      "source": [
        "Formally, we want to find weights $w_i$ that minimize:\n",
        "$$\n",
        "\\sum_{j}\\left(\\sum_{i} X_{i j} w_{i}-y_{j}\\right)^{2}\n",
        "$$\n",
        "The index $i$ denotes the different features (properties of the wines) while the index $j$ runs over the different wines. The matrix $X_{ij}$ contains the training data, $y_j$ is the 'true' quality for sample $j$. The weights can be found by taking the first derivative of the above expression with respect to the weights and setting it to zero (the standard strategy for finding an extremum), and solving the corresponding system of equations (for a detailed derivation, see [here](https://en.wikipedia.org/wiki/Ordinary_least_squares)). The result is:\n",
        "$$\n",
        "\\overrightarrow{\\mathbf{w}}=\\left(\\mathbf{X}^{T} \\mathbf{X}\\right)^{-1} \\mathbf{X}^{T} \\overrightarrow{\\mathbf{y}}\n",
        "$$\n",
        "\n",
        "In the end, you should have as many components of $w_i$ as there are features in the data (i.e. eleven in this case).\n",
        "\n",
        "You can use `.shape` to inspect the dimensions of numpy tensors.\n"
      ]
    },
    {
      "cell_type": "markdown",
      "metadata": {},
      "source": [
        "# Solutions:\n",
        "## Plot features"
      ]
    },
    {
      "cell_type": "code",
      "execution_count": 16,
      "metadata": {},
      "outputs": [
        {
          "data": {
            "text/plain": [
              "(array([  12.,    0.,    0.,    0.,    0.,    0.,    0.,    0.,   98.,\n",
              "           0.,    0.,    0.,    0.,    0.,    0.,    0.,  884.,    0.,\n",
              "           0.,    0.,    0.,    0.,    0.,    0.,    0., 1365.,    0.,\n",
              "           0.,    0.,    0.,    0.,    0.,    0.,  534.,    0.,    0.,\n",
              "           0.,    0.,    0.,    0.,    0.,  103.,    0.,    0.,    0.,\n",
              "           0.,    0.,    0.,    0.,    4.]),\n",
              " array([3.  , 3.12, 3.24, 3.36, 3.48, 3.6 , 3.72, 3.84, 3.96, 4.08, 4.2 ,\n",
              "        4.32, 4.44, 4.56, 4.68, 4.8 , 4.92, 5.04, 5.16, 5.28, 5.4 , 5.52,\n",
              "        5.64, 5.76, 5.88, 6.  , 6.12, 6.24, 6.36, 6.48, 6.6 , 6.72, 6.84,\n",
              "        6.96, 7.08, 7.2 , 7.32, 7.44, 7.56, 7.68, 7.8 , 7.92, 8.04, 8.16,\n",
              "        8.28, 8.4 , 8.52, 8.64, 8.76, 8.88, 9.  ]),\n",
              " <BarContainer object of 50 artists>)"
            ]
          },
          "execution_count": 16,
          "metadata": {},
          "output_type": "execute_result"
        },
        {
          "data": {
            "image/png": "[encoded data removed]",
            "text/plain": [
              "<Figure size 640x480 with 11 Axes>"
            ]
          },
          "metadata": {},
          "output_type": "display_data"
        },
        {
          "data": {
            "image/png": "[encoded data removed]",
            "text/plain": [
              "<Figure size 640x480 with 1 Axes>"
            ]
          },
          "metadata": {},
          "output_type": "display_data"
        }
      ],
      "source": [
        "numfeatures=11\n",
        "plt.figure()\n",
        "for i in range(0,numfeatures):\n",
        "    plt.subplot(numfeatures, 1, i+1)\n",
        "    plt.hist(X_train[:,i],50)\n",
        "plt.figure()\n",
        "plt.hist(y_train, 50)"
      ]
    },
    {
      "cell_type": "code",
      "execution_count": 20,
      "metadata": {},
      "outputs": [
        {
          "data": {
            "image/png": "[encoded data removed]",
            "text/plain": [
              "<Figure size 640x480 with 12 Axes>"
            ]
          },
          "metadata": {},
          "output_type": "display_data"
        }
      ],
      "source": [
        "fig, axs = plt.subplots(numfeatures//2+1, 2)\n",
        "for i in range(0,numfeatures):\n",
        "    axs[i//2,i%2].hist2d(X_train[:,i],y_train, [18,6])\n"
      ]
    },
    {
      "cell_type": "code",
      "execution_count": 35,
      "metadata": {},
      "outputs": [
        {
          "name": "stdout",
          "output_type": "stream",
          "text": [
            "-0.118\n",
            "-0.186\n",
            "-0.013\n",
            "-0.074\n",
            "-0.2\n",
            "0.056\n",
            "-0.149\n",
            "-0.283\n",
            "0.104\n",
            "0.041\n",
            "0.427\n"
          ]
        }
      ],
      "source": [
        "correlations=[]\n",
        "for i in range(numfeatures):\n",
        "    correlations.append(np.corrcoef(X_train[:,i], y_train))\n",
        "    print(round(correlations[i][1][0],3))"
      ]
    },
    {
      "cell_type": "markdown",
      "metadata": {},
      "source": [
        "## Calculating weights"
      ]
    },
    {
      "cell_type": "code",
      "execution_count": 36,
      "metadata": {},
      "outputs": [],
      "source": [
        "w=np.linalg.inv(X_train.T@X_train)@X_train.T@y_train"
      ]
    },
    {
      "cell_type": "code",
      "execution_count": 37,
      "metadata": {},
      "outputs": [
        {
          "name": "stdout",
          "output_type": "stream",
          "text": [
            "[-4.60031737e-02 -1.79597633e+00 -1.23800958e-01  2.42068886e-02\n",
            " -8.47949658e-01  7.20504561e-03 -9.98499095e-04  1.98606066e+00\n",
            "  1.70493298e-01  3.74560565e-01  3.62092944e-01]\n"
          ]
        }
      ],
      "source": [
        "print(w)"
      ]
    }
  ],
  "metadata": {
    "colab": {
      "provenance": []
    },
    "kernelspec": {
      "display_name": "Python 3",
      "language": "python",
      "name": "python3"
    },
    "language_info": {
      "codemirror_mode": {
        "name": "ipython",
        "version": 3
      },
      "file_extension": ".py",
      "mimetype": "text/x-python",
      "name": "python",
      "nbconvert_exporter": "python",
      "pygments_lexer": "ipython3",
      "version": "3.10.11"
    }
  },
  "nbformat": 4,
  "nbformat_minor": 0
}

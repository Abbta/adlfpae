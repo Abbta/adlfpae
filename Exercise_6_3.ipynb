{
 "cells": [
  {
   "cell_type": "markdown",
   "metadata": {
    "colab_type": "text",
    "id": "view-in-github"
   },
   "source": [
    "<a href=\"https://colab.research.google.com/github/Abbta/adlfpae/blob/main/Exercise_6_3.ipynb\" target=\"_parent\"><img src=\"https://colab.research.google.com/assets/colab-badge.svg\" alt=\"Open In Colab\"/></a>"
   ]
  },
  {
   "cell_type": "markdown",
   "metadata": {
    "id": "WSW9BmePM7zZ"
   },
   "source": [
    "# Exercise 6.3: Neural Networks in Keras"
   ]
  },
  {
   "cell_type": "code",
   "execution_count": null,
   "metadata": {
    "id": "HnpsfvafCzPS"
   },
   "outputs": [],
   "source": []
  },
  {
   "cell_type": "code",
   "execution_count": 1,
   "metadata": {
    "id": "t02FemO-M7za"
   },
   "outputs": [],
   "source": [
    "import numpy as np\n",
    "import matplotlib.pyplot as plt\n",
    "\n",
    "# See https://keras.io/\n",
    "# for extennsive documentation\n",
    "import tensorflow as tf\n",
    "from tensorflow import keras\n",
    "\n",
    "from keras.models import Sequential\n",
    "from keras.layers import Dense"
   ]
  },
  {
   "cell_type": "code",
   "execution_count": 9,
   "metadata": {},
   "outputs": [
    {
     "name": "stdout",
     "output_type": "stream",
     "text": [
      "Device mapping:\n",
      "/job:localhost/replica:0/task:0/device:GPU:0 -> device: 0, name: NVIDIA GeForce GTX 1070, pci bus id: 0000:1d:00.0, compute capability: 6.1\n",
      "\n"
     ]
    }
   ],
   "source": [
    "#For verifying GPU is used when run locally\n",
    "sess = tf.compat.v1.Session(config=tf.compat.v1.ConfigProto(log_device_placement=True))"
   ]
  },
  {
   "cell_type": "markdown",
   "metadata": {
    "id": "IrvyHKHTM7ze"
   },
   "source": [
    "Let us visit the problem of wine quality prediction previously encountered one final time. After linear regression and a self-made network, we can now explore the comfort provided by the Keras library."
   ]
  },
  {
   "cell_type": "code",
   "execution_count": null,
   "metadata": {
    "id": "-H-L5egsM7ze"
   },
   "outputs": [],
   "source": [
    "# The code snippet below is responsible for downloading the dataset to\n",
    "# Google. You can directly download the file using the link\n",
    "# if you work with a local anaconda setup\n",
    "import os\n",
    "if not os.path.exists(\"winequality-white.csv\"):\n",
    "  !wget https://archive.ics.uci.edu/ml/machine-learning-databases/wine-quality/winequality-white.csv --no-check-certificate"
   ]
  },
  {
   "cell_type": "code",
   "execution_count": 2,
   "metadata": {
    "id": "mDToshKJNWGY"
   },
   "outputs": [
    {
     "name": "stdout",
     "output_type": "stream",
     "text": [
      "data: (4898, 12)\n",
      "First example:\n",
      "Features: [6.100e+00 2.200e-01 4.900e-01 1.500e+00 5.100e-02 1.800e+01 8.700e+01\n",
      " 9.928e-01 3.300e+00 4.600e-01 9.600e+00]\n",
      "Quality: 5.0\n"
     ]
    }
   ],
   "source": [
    "# load all examples from the file\n",
    "data = np.genfromtxt('winequality-white.csv',delimiter=\";\",skip_header=1)\n",
    "\n",
    "print(\"data:\", data.shape)\n",
    "\n",
    "# Prepare for proper training\n",
    "np.random.seed(1234) # set seed to get reproducable results\n",
    "np.random.shuffle(data) # randomly sort examples\n",
    "\n",
    "# take the first 3000 examples for training\n",
    "X_train = data[:3000,:11] # all features except last column\n",
    "y_train = data[:3000,11]  # quality column\n",
    "\n",
    "# and the remaining examples for testing\n",
    "X_test = data[3000:,:11] # all features except last column\n",
    "y_test = data[3000:,11] # quality column\n",
    "\n",
    "print(\"First example:\")\n",
    "print(\"Features:\", X_train[0])\n",
    "print(\"Quality:\", y_train[0])\n"
   ]
  },
  {
   "cell_type": "markdown",
   "metadata": {
    "id": "VXx8BXB_M7zi"
   },
   "source": [
    "Below is the simple network from exercise 4.1 implemented using Keras. In addition to the network we define the loss function and optimiser."
   ]
  },
  {
   "cell_type": "code",
   "execution_count": 18,
   "metadata": {
    "id": "Z0HMdw9eM7zi"
   },
   "outputs": [],
   "source": [
    "# See: https://keras.io/api/models/sequential/ and\n",
    "# https://keras.io/api/layers/core_layers/dense/\n",
    "# We can use the Sequential class to very easiliy\n",
    "# build a simple architecture\n",
    "model = Sequential()\n",
    "# 11 inputs, 20 outputs, relu\n",
    "model.add(Dense(250, input_dim=11, activation='relu'))\n",
    "# 20 inputs (automatically detected by Keras), 1 output, linear activation\n",
    "model.add(Dense(27, input_dim=11, activation='relu'))\n",
    "model.add(Dense(1, activation='linear'))\n",
    "\n",
    "\n",
    "# Set loss function and optimiser algorithm\n",
    "model.compile(loss='mse',  # mean squared error\n",
    "              optimizer='adam'# stochastic gradient descent\n",
    "             )"
   ]
  },
  {
   "cell_type": "markdown",
   "metadata": {
    "id": "I98jdZcqM7zm"
   },
   "source": [
    "# Training and evaluation below\n",
    "\n",
    "The code below trains the network for 5 epochs using the loss function and optimiser defined above. Each example is individually passed to the network"
   ]
  },
  {
   "cell_type": "code",
   "execution_count": 20,
   "metadata": {
    "id": "2eYJwWOOAVeN"
   },
   "outputs": [
    {
     "name": "stdout",
     "output_type": "stream",
     "text": [
      "Epoch 1/5\n",
      "600/600 [==============================] - 3s 5ms/step - loss: 0.6336 - val_loss: 0.6171\n",
      "Epoch 2/5\n",
      "600/600 [==============================] - 3s 5ms/step - loss: 0.6496 - val_loss: 0.9222\n",
      "Epoch 3/5\n",
      "600/600 [==============================] - 3s 5ms/step - loss: 0.6757 - val_loss: 0.5873\n",
      "Epoch 4/5\n",
      "600/600 [==============================] - 3s 5ms/step - loss: 0.6698 - val_loss: 0.5771\n",
      "Epoch 5/5\n",
      "600/600 [==============================] - 3s 5ms/step - loss: 0.6576 - val_loss: 0.5698\n"
     ]
    }
   ],
   "source": [
    "history = model.fit(X_train, y_train,\n",
    "                    validation_data=(X_test, y_test),\n",
    "                    epochs=5, batch_size=5)\n"
   ]
  },
  {
   "cell_type": "markdown",
   "metadata": {},
   "source": [
    "## Note\n",
    "This is the best I can accomplish by **only changing network architecture**, i.e. not changing the training process. In this case I found reguralization did not help performance."
   ]
  },
  {
   "cell_type": "code",
   "execution_count": 21,
   "metadata": {
    "id": "XOyiHcIkAVeO"
   },
   "outputs": [],
   "source": [
    "# The history object returned by the model training above\n",
    "# contains the values of the loss function (the mean-squared-error)\n",
    "# at different epochs\n",
    "# We discard the first epoch as the loss value is very high,\n",
    "# obscuring the rest of the distribution\n",
    "train_loss = history.history[\"loss\"][1:]\n",
    "test_loss = history.history[\"val_loss\"][1:]"
   ]
  },
  {
   "cell_type": "code",
   "execution_count": 22,
   "metadata": {
    "id": "XycXnZEqAVeP"
   },
   "outputs": [
    {
     "data": {
      "image/png": "[encoded data removed]",
      "text/plain": [
       "<Figure size 640x480 with 1 Axes>"
      ]
     },
     "metadata": {},
     "output_type": "display_data"
    }
   ],
   "source": [
    "# Prepare and plot loss over time\n",
    "plt.plot(train_loss,label=\"train\")\n",
    "plt.plot(test_loss,label=\"test\")\n",
    "plt.legend()\n",
    "plt.xlabel(\"Epoch-1\")\n",
    "plt.ylabel(\"Loss\")\n",
    "plt.show()"
   ]
  },
  {
   "cell_type": "code",
   "execution_count": 23,
   "metadata": {
    "id": "qORl2YivAVeQ"
   },
   "outputs": [
    {
     "name": "stdout",
     "output_type": "stream",
     "text": [
      "60/60 [==============================] - 0s 1ms/step\n",
      "Correlation coefficient: 0.5414947614395764\n"
     ]
    },
    {
     "data": {
      "image/png": "[encoded data removed]",
      "text/plain": [
       "<Figure size 640x480 with 1 Axes>"
      ]
     },
     "metadata": {},
     "output_type": "display_data"
    }
   ],
   "source": [
    "# After the training:\n",
    "\n",
    "# Prepare scatter plot\n",
    "y_pred = model.predict(X_test)[:,0]\n",
    "\n",
    "print(\"Correlation coefficient:\", np.corrcoef(y_pred,y_test)[0,1])\n",
    "plt.scatter(y_pred,y_test)\n",
    "plt.xlabel(\"Predicted\")\n",
    "plt.ylabel(\"True\")\n",
    "plt.show()"
   ]
  },
  {
   "cell_type": "code",
   "execution_count": 24,
   "metadata": {
    "id": "QFUQThOeAVeQ"
   },
   "outputs": [
    {
     "data": {
      "text/plain": [
       "array([[1.        , 0.54149476],\n",
       "       [0.54149476, 1.        ]])"
      ]
     },
     "execution_count": 24,
     "metadata": {},
     "output_type": "execute_result"
    }
   ],
   "source": [
    "np.corrcoef(y_pred,y_test)"
   ]
  },
  {
   "cell_type": "markdown",
   "metadata": {},
   "source": [
    "## Note\n",
    "I think this is an acceptable result. Still only just slightly better than linear regression (corrcoef 0.52)."
   ]
  },
  {
   "cell_type": "markdown",
   "metadata": {
    "id": "KI7zcK_uM7zp"
   },
   "source": [
    "\n",
    "# Problems\n",
    "\n",
    "* Use the notebook as starting point. It already contains the simple network from Exercise 4.1 implemented in Keras.\n",
    "\n",
    "* Currently, SGD is used without momentum. Try training with a momentum term. Replace SGD with the Adam optimizer and train using that. (See: https://keras.io/api/optimizers/)\n",
    "* Add two more hidden layers to the network (you can choose the number of nodes but make sure to apply the ReLu activation function after each) and train again.\n",
    "* Test differet numbers of examples (i.e. change the batch batch size) to be simulataneously used by the network.\n",
    "* (bonus) optimize the network architecture to get the best correlation coefficient. (Let's see who gets the most out of the data)."
   ]
  },
  {
   "cell_type": "markdown",
   "metadata": {},
   "source": [
    "**Dont mind this:**"
   ]
  },
  {
   "cell_type": "code",
   "execution_count": 15,
   "metadata": {
    "id": "2mUTzx7h2mKJ"
   },
   "outputs": [
    {
     "name": "stdout",
     "output_type": "stream",
     "text": [
      "0\n",
      "1\n",
      "2\n",
      "3\n",
      "4\n",
      "5\n",
      "6\n",
      "7\n",
      "8\n",
      "9\n",
      "10\n",
      "11\n",
      "12\n",
      "13\n",
      "14\n",
      "15\n",
      "16\n",
      "17\n",
      "18\n",
      "19\n",
      "20\n",
      "21\n",
      "22\n",
      "23\n",
      "24\n",
      "25\n",
      "26\n",
      "27\n",
      "28\n",
      "29\n",
      "30\n",
      "31\n",
      "32\n",
      "33\n",
      "34\n",
      "35\n",
      "36\n",
      "37\n",
      "38\n",
      "39\n",
      "40\n",
      "41\n",
      "42\n",
      "43\n",
      "44\n",
      "45\n",
      "46\n",
      "47\n",
      "48\n",
      "49\n",
      "50\n",
      "51\n",
      "52\n",
      "53\n",
      "54\n",
      "55\n",
      "56\n",
      "57\n",
      "58\n",
      "59\n",
      "60\n",
      "61\n",
      "62\n",
      "63\n",
      "64\n",
      "65\n",
      "66\n",
      "67\n",
      "68\n",
      "69\n",
      "70\n",
      "71\n",
      "72\n",
      "73\n",
      "74\n",
      "75\n",
      "76\n",
      "77\n",
      "78\n",
      "79\n",
      "80\n",
      "81\n",
      "82\n",
      "83\n",
      "84\n",
      "85\n",
      "86\n",
      "87\n",
      "88\n",
      "89\n",
      "90\n",
      "91\n",
      "92\n",
      "93\n",
      "94\n",
      "95\n",
      "96\n",
      "97\n",
      "98\n",
      "99\n",
      "100\n",
      "101\n",
      "102\n",
      "103\n",
      "104\n",
      "105\n",
      "106\n",
      "107\n",
      "108\n",
      "109\n",
      "110\n",
      "111\n",
      "112\n",
      "113\n",
      "114\n",
      "115\n",
      "116\n",
      "117\n",
      "118\n",
      "119\n",
      "120\n",
      "121\n",
      "122\n",
      "123\n",
      "124\n",
      "125\n",
      "126\n",
      "127\n",
      "128\n",
      "129\n",
      "130\n",
      "131\n",
      "132\n",
      "133\n",
      "134\n",
      "135\n",
      "136\n",
      "137\n",
      "138\n",
      "139\n",
      "140\n",
      "141\n",
      "142\n",
      "143\n",
      "144\n",
      "145\n",
      "146\n",
      "147\n",
      "148\n",
      "149\n",
      "150\n",
      "151\n",
      "152\n",
      "153\n",
      "154\n",
      "155\n",
      "156\n",
      "157\n",
      "158\n",
      "159\n",
      "160\n",
      "161\n",
      "162\n",
      "163\n",
      "164\n",
      "165\n",
      "166\n",
      "167\n",
      "168\n",
      "169\n",
      "170\n",
      "171\n",
      "172\n",
      "173\n",
      "174\n",
      "175\n",
      "176\n",
      "177\n",
      "178\n",
      "179\n",
      "180\n",
      "181\n",
      "182\n",
      "183\n",
      "184\n",
      "185\n",
      "186\n",
      "187\n",
      "188\n",
      "189\n",
      "190\n",
      "191\n",
      "192\n",
      "193\n",
      "194\n",
      "195\n",
      "196\n",
      "197\n",
      "198\n",
      "199\n",
      "200\n",
      "201\n",
      "202\n",
      "203\n",
      "204\n",
      "205\n",
      "206\n",
      "207\n",
      "208\n",
      "209\n",
      "210\n",
      "211\n",
      "212\n",
      "213\n",
      "214\n",
      "215\n",
      "216\n",
      "217\n",
      "218\n",
      "219\n",
      "220\n",
      "221\n",
      "222\n",
      "223\n",
      "224\n",
      "225\n",
      "226\n",
      "227\n",
      "228\n",
      "229\n",
      "230\n",
      "231\n",
      "232\n",
      "233\n",
      "234\n",
      "235\n",
      "236\n",
      "237\n",
      "238\n",
      "239\n",
      "240\n",
      "241\n",
      "242\n",
      "243\n",
      "244\n",
      "245\n",
      "246\n",
      "247\n",
      "248\n",
      "249\n",
      "250\n",
      "251\n",
      "252\n",
      "253\n",
      "254\n",
      "255\n",
      "256\n",
      "257\n",
      "258\n",
      "259\n",
      "260\n",
      "261\n",
      "262\n",
      "263\n",
      "264\n",
      "265\n",
      "266\n",
      "267\n",
      "268\n",
      "269\n",
      "270\n",
      "271\n",
      "272\n",
      "273\n",
      "274\n",
      "275\n",
      "276\n",
      "277\n",
      "278\n",
      "279\n",
      "280\n",
      "281\n",
      "282\n",
      "283\n",
      "284\n",
      "285\n",
      "286\n",
      "287\n",
      "288\n",
      "289\n",
      "290\n",
      "291\n",
      "292\n",
      "293\n",
      "294\n",
      "295\n",
      "296\n",
      "297\n",
      "298\n",
      "299\n",
      "300\n",
      "301\n",
      "302\n",
      "303\n",
      "304\n",
      "305\n",
      "306\n",
      "307\n",
      "308\n",
      "309\n",
      "310\n",
      "311\n",
      "312\n",
      "313\n",
      "314\n",
      "315\n",
      "316\n",
      "317\n",
      "318\n",
      "319\n",
      "320\n",
      "321\n",
      "322\n",
      "323\n",
      "324\n",
      "325\n",
      "326\n",
      "327\n",
      "328\n",
      "329\n",
      "330\n",
      "331\n",
      "332\n",
      "333\n",
      "334\n",
      "335\n",
      "336\n",
      "337\n",
      "338\n",
      "339\n",
      "340\n",
      "341\n",
      "342\n",
      "343\n",
      "344\n",
      "345\n",
      "346\n",
      "347\n",
      "348\n",
      "349\n",
      "350\n",
      "351\n",
      "352\n",
      "353\n",
      "354\n",
      "355\n",
      "356\n",
      "357\n",
      "358\n",
      "359\n",
      "360\n",
      "361\n",
      "362\n",
      "363\n",
      "364\n",
      "365\n",
      "366\n",
      "367\n",
      "368\n",
      "369\n",
      "370\n",
      "371\n",
      "372\n",
      "373\n",
      "374\n",
      "375\n",
      "376\n",
      "377\n",
      "378\n",
      "379\n",
      "380\n",
      "381\n",
      "382\n",
      "383\n",
      "384\n",
      "385\n",
      "386\n",
      "387\n",
      "388\n",
      "389\n",
      "390\n",
      "391\n",
      "392\n",
      "393\n",
      "394\n",
      "395\n",
      "396\n",
      "397\n",
      "398\n",
      "399\n",
      "400\n",
      "401\n",
      "402\n",
      "403\n",
      "404\n",
      "405\n",
      "406\n",
      "407\n",
      "408\n",
      "409\n",
      "410\n",
      "411\n",
      "412\n",
      "413\n",
      "414\n",
      "415\n",
      "416\n",
      "417\n",
      "418\n",
      "419\n",
      "420\n",
      "421\n",
      "422\n",
      "423\n",
      "424\n",
      "425\n",
      "426\n",
      "427\n",
      "428\n",
      "429\n",
      "430\n",
      "431\n",
      "432\n",
      "433\n",
      "434\n",
      "435\n",
      "436\n",
      "437\n",
      "438\n",
      "439\n",
      "440\n",
      "441\n",
      "442\n",
      "443\n",
      "444\n",
      "445\n",
      "446\n",
      "447\n",
      "448\n",
      "449\n",
      "450\n",
      "451\n",
      "452\n",
      "453\n",
      "454\n",
      "455\n",
      "456\n",
      "457\n",
      "458\n",
      "459\n",
      "460\n",
      "461\n",
      "462\n",
      "463\n",
      "464\n",
      "465\n",
      "466\n",
      "467\n",
      "468\n",
      "469\n",
      "470\n",
      "471\n",
      "472\n",
      "473\n",
      "474\n",
      "475\n",
      "476\n",
      "477\n",
      "478\n",
      "479\n",
      "480\n",
      "481\n",
      "482\n",
      "483\n",
      "484\n",
      "485\n",
      "486\n",
      "487\n",
      "488\n",
      "489\n",
      "490\n",
      "491\n",
      "492\n",
      "493\n",
      "494\n",
      "495\n",
      "496\n",
      "497\n",
      "498\n",
      "499\n"
     ]
    }
   ],
   "source": [
    "N=500\n",
    "res2={}\n",
    "for i in range(N):\n",
    "    print(i)\n",
    "    depth=np.random.randint(1, 10)\n",
    "    width=[]\n",
    "    dropout=[]\n",
    "    for j in range(depth):\n",
    "        width.append(np.random.randint(1,256))\n",
    "        dropout.append(0.1*np.random.randint(0,7))\n",
    "    model = Sequential()\n",
    "    \n",
    "    model.add(Dense(width[0], input_dim=11, activation='relu'))\n",
    "    model.add(keras.layers.Dropout(dropout[0]))\n",
    "    \n",
    "    for j in range(1,depth):\n",
    "        model.add(Dense(width[j], activation='relu'))\n",
    "        model.add(keras.layers.Dropout(dropout[j]))\n",
    "    \n",
    "    model.add(Dense(1, activation='linear'))\n",
    "\n",
    "\n",
    "    # Set loss function and optimiser algorithm\n",
    "    model.compile(loss='mse',  # mean squared error\n",
    "                optimizer='adam', metrics=['accuracy']# stochastic gradient descent\n",
    "                )\n",
    "    model.fit(X_train, y_train,\n",
    "                    validation_data=(X_test, y_test),\n",
    "                    epochs=5, batch_size=60, verbose=0)\n",
    "    \n",
    "    loss=model.evaluate(X_test, y_test, verbose=0, batch_size=5, return_dict=False)[0]\n",
    "    res2[f\"{depth}, {width}, {dropout}\"]=loss\n",
    "        "
   ]
  },
  {
   "cell_type": "code",
   "execution_count": 14,
   "metadata": {},
   "outputs": [
    {
     "name": "stdout",
     "output_type": "stream",
     "text": [
      "{'9, [19, 136, 48, 82, 75, 93, 198, 167, 74], [0.4, 0.1, 0.4, 0.1, 0.5, 0.30000000000000004, 0.1, 0.2, 0.2]': 7.534972190856934, '1, [133], [0.0]': 0.6891700029373169, '3, [218, 252, 136], [0.30000000000000004, 0.30000000000000004, 0.0]': 6.034780502319336, '9, [255, 10, 203, 176, 97, 223, 89, 84, 27], [0.4, 0.4, 0.5, 0.30000000000000004, 0.4, 0.0, 0.5, 0.2, 0.1]': 18.33155059814453, '8, [39, 62, 151, 187, 145, 209, 219, 65], [0.2, 0.30000000000000004, 0.5, 0.4, 0.5, 0.2, 0.1, 0.0]': 19.48366928100586, '1, [116], [0.0]': 0.6674709320068359, '8, [166, 69, 177, 59, 106, 157, 51, 115], [0.6000000000000001, 0.0, 0.6000000000000001, 0.1, 0.6000000000000001, 0.6000000000000001, 0.30000000000000004, 0.2]': 15.5562162399292, '9, [86, 215, 15, 118, 110, 109, 123, 125, 45], [0.30000000000000004, 0.2, 0.4, 0.0, 0.30000000000000004, 0.4, 0.30000000000000004, 0.4, 0.1]': 12.392274856567383, '3, [43, 236, 250], [0.5, 0.1, 0.1]': 9.150728225708008, '9, [124, 167, 142, 12, 117, 46, 193, 59, 107], [0.4, 0.5, 0.5, 0.5, 0.2, 0.0, 0.5, 0.1, 0.0]': 11.20639705657959, '2, [91, 78], [0.4, 0.30000000000000004]': 8.944783210754395, '3, [252, 10, 239], [0.1, 0.1, 0.1]': 1.2994868755340576, '6, [196, 95, 207, 241, 252, 197], [0.1, 0.1, 0.1, 0.4, 0.2, 0.0]': 8.360698699951172, '5, [84, 214, 91, 123, 119], [0.1, 0.1, 0.1, 0.2, 0.4]': 5.150191783905029, '6, [178, 192, 99, 255, 139, 137], [0.6000000000000001, 0.30000000000000004, 0.0, 0.1, 0.4, 0.5]': 14.102275848388672, '3, [146, 243, 218], [0.0, 0.2, 0.0]': 1.0960530042648315, '4, [36, 207, 1, 130], [0.4, 0.1, 0.5, 0.30000000000000004]': 8.260124206542969, '1, [126], [0.0]': 0.6474922299385071, '4, [101, 236, 24, 41], [0.30000000000000004, 0.2, 0.1, 0.30000000000000004]': 5.742649555206299, '5, [198, 101, 162, 16, 6], [0.1, 0.5, 0.6000000000000001, 0.5, 0.0]': 8.795401573181152, '2, [128, 32], [0.30000000000000004, 0.30000000000000004]': 4.356327056884766, '1, [231], [0.1]': 0.8462042212486267, '8, [223, 5, 255, 21, 202, 74, 124, 226], [0.5, 0.1, 0.2, 0.4, 0.2, 0.2, 0.30000000000000004, 0.5]': 0.791357159614563, '2, [106, 116], [0.30000000000000004, 0.30000000000000004]': 3.125627279281616, '1, [169], [0.4]': 1.1705175638198853, '5, [45, 78, 208, 5, 175], [0.4, 0.0, 0.6000000000000001, 0.2, 0.0]': 5.4405694007873535, '9, [62, 116, 20, 243, 178, 234, 28, 54, 250], [0.1, 0.6000000000000001, 0.4, 0.2, 0.30000000000000004, 0.1, 0.5, 0.1, 0.1]': 5.26580286026001, '3, [185, 87, 225], [0.0, 0.1, 0.6000000000000001]': 0.834494948387146, '3, [169, 131, 89], [0.30000000000000004, 0.2, 0.2]': 3.217874765396118, '6, [44, 12, 230, 137, 228, 214], [0.2, 0.1, 0.2, 0.4, 0.2, 0.6000000000000001]': 7.416996955871582, '6, [20, 151, 144, 205, 255, 141], [0.2, 0.4, 0.5, 0.4, 0.1, 0.0]': 19.474185943603516, '5, [37, 151, 124, 169, 61], [0.6000000000000001, 0.2, 0.1, 0.4, 0.4]': 23.210416793823242, '5, [37, 69, 19, 193, 186], [0.5, 0.2, 0.30000000000000004, 0.1, 0.0]': 12.835921287536621, '7, [56, 188, 115, 10, 61, 62, 186], [0.4, 0.0, 0.6000000000000001, 0.0, 0.1, 0.4, 0.6000000000000001]': 6.30489444732666, '2, [116, 177], [0.5, 0.4]': 11.923503875732422, '9, [105, 65, 119, 13, 97, 150, 127, 232, 70], [0.0, 0.6000000000000001, 0.30000000000000004, 0.4, 0.2, 0.6000000000000001, 0.6000000000000001, 0.6000000000000001, 0.5]': 2.6270298957824707, '1, [193], [0.1]': 1.6831166744232178, '3, [247, 213, 105], [0.6000000000000001, 0.4, 0.0]': 19.851137161254883, '7, [12, 189, 124, 226, 168, 104, 98], [0.30000000000000004, 0.1, 0.1, 0.0, 0.1, 0.4, 0.5]': 4.5053863525390625, '1, [192], [0.1]': 0.7062368988990784, '9, [28, 55, 253, 141, 28, 31, 155, 147, 58], [0.5, 0.4, 0.4, 0.6000000000000001, 0.5, 0.6000000000000001, 0.5, 0.1, 0.2]': 18.487098693847656, '6, [225, 171, 239, 236, 130, 252], [0.2, 0.2, 0.30000000000000004, 0.2, 0.0, 0.1]': 6.7721123695373535, '3, [128, 167, 21], [0.2, 0.30000000000000004, 0.6000000000000001]': 6.201994895935059, '3, [205, 80, 254], [0.0, 0.4, 0.6000000000000001]': 2.4291677474975586, '2, [247, 81], [0.30000000000000004, 0.1]': 1.5236793756484985, '2, [52, 174], [0.0, 0.2]': 1.0937985181808472, '4, [65, 165, 182, 76], [0.1, 0.1, 0.30000000000000004, 0.6000000000000001]': 4.815970420837402, '7, [135, 60, 58, 48, 243, 3, 148], [0.30000000000000004, 0.30000000000000004, 0.1, 0.4, 0.5, 0.30000000000000004, 0.5]': 8.381503105163574, '5, [169, 163, 155, 88, 67], [0.5, 0.4, 0.30000000000000004, 0.0, 0.2]': 14.679194450378418, '5, [165, 155, 200, 234, 144], [0.4, 0.30000000000000004, 0.0, 0.2, 0.30000000000000004]': 7.632031440734863, '2, [157, 33], [0.5, 0.5]': 6.352786064147949, '2, [52, 179], [0.5, 0.4]': 8.316827774047852, '3, [81, 216, 83], [0.4, 0.2, 0.5]': 8.619002342224121, '1, [116], [0.30000000000000004]': 1.5863463878631592, '3, [107, 104, 98], [0.2, 0.2, 0.6000000000000001]': 7.572195053100586, '4, [54, 8, 33, 138], [0.2, 0.6000000000000001, 0.2, 0.6000000000000001]': 11.687530517578125, '9, [224, 102, 171, 128, 189, 71, 191, 85, 111], [0.4, 0.6000000000000001, 0.0, 0.6000000000000001, 0.2, 0.4, 0.6000000000000001, 0.1, 0.1]': 12.720587730407715, '1, [212], [0.30000000000000004]': 0.8858078718185425, '8, [195, 201, 114, 55, 224, 205, 160, 219], [0.5, 0.0, 0.2, 0.6000000000000001, 0.0, 0.4, 0.1, 0.6000000000000001]': 7.699732303619385, '7, [165, 19, 144, 99, 222, 252, 111], [0.5, 0.0, 0.1, 0.2, 0.2, 0.30000000000000004, 0.30000000000000004]': 3.048863172531128, '6, [224, 143, 94, 212, 83, 134], [0.4, 0.2, 0.2, 0.6000000000000001, 0.1, 0.30000000000000004]': 13.041626930236816, '5, [30, 131, 126, 64, 82], [0.30000000000000004, 0.30000000000000004, 0.2, 0.2, 0.1]': 13.285036087036133, '6, [150, 102, 67, 80, 178, 178], [0.6000000000000001, 0.6000000000000001, 0.4, 0.5, 0.1, 0.30000000000000004]': 21.302534103393555, '3, [206, 180, 244], [0.6000000000000001, 0.5, 0.6000000000000001]': 26.807233810424805, '9, [240, 93, 48, 31, 195, 130, 76, 137, 209], [0.4, 0.30000000000000004, 0.4, 0.0, 0.1, 0.2, 0.2, 0.2, 0.30000000000000004]': 2.1826679706573486, '2, [151, 214], [0.0, 0.30000000000000004]': 0.7138673067092896, '1, [85], [0.2]': 2.1154913902282715, '7, [27, 117, 21, 107, 65, 25, 12], [0.30000000000000004, 0.2, 0.6000000000000001, 0.4, 0.6000000000000001, 0.4, 0.30000000000000004]': 30.593870162963867, '3, [199, 63, 84], [0.0, 0.4, 0.2]': 3.8586266040802, '3, [189, 112, 102], [0.6000000000000001, 0.30000000000000004, 0.1]': 21.118043899536133, '2, [12, 110], [0.30000000000000004, 0.4]': 8.199962615966797, '7, [41, 80, 164, 182, 99, 235, 187], [0.4, 0.5, 0.6000000000000001, 0.5, 0.0, 0.1, 0.30000000000000004]': 20.748069763183594, '5, [184, 235, 203, 44, 112], [0.6000000000000001, 0.0, 0.1, 0.0, 0.6000000000000001]': 4.715250015258789, '7, [215, 130, 44, 181, 177, 47, 199], [0.1, 0.30000000000000004, 0.1, 0.6000000000000001, 0.5, 0.5, 0.6000000000000001]': 6.376327037811279, '7, [28, 171, 112, 49, 168, 238, 60], [0.6000000000000001, 0.0, 0.30000000000000004, 0.1, 0.1, 0.5, 0.1]': 13.749102592468262, '1, [118], [0.0]': 0.8699495196342468, '9, [52, 55, 52, 126, 191, 63, 39, 83, 88], [0.5, 0.5, 0.5, 0.2, 0.1, 0.1, 0.5, 0.2, 0.4]': 9.369231224060059, '1, [225], [0.2]': 0.8810348510742188, '5, [81, 249, 71, 140, 10], [0.2, 0.0, 0.0, 0.2, 0.1]': 1.332486629486084, '9, [233, 214, 123, 150, 237, 7, 157, 102, 147], [0.1, 0.4, 0.5, 0.5, 0.5, 0.5, 0.6000000000000001, 0.6000000000000001, 0.2]': 7.0811076164245605, '4, [79, 245, 113, 106], [0.30000000000000004, 0.30000000000000004, 0.0, 0.4]': 4.2678937911987305, '9, [197, 75, 130, 72, 148, 68, 146, 59, 6], [0.4, 0.1, 0.30000000000000004, 0.6000000000000001, 0.1, 0.0, 0.6000000000000001, 0.5, 0.30000000000000004]': 8.624403953552246, '2, [97, 64], [0.30000000000000004, 0.2]': 5.85898494720459, '6, [253, 224, 105, 63, 14, 200], [0.1, 0.4, 0.4, 0.30000000000000004, 0.0, 0.5]': 5.4027605056762695, '4, [3, 126, 178, 175], [0.0, 0.1, 0.0, 0.6000000000000001]': 4.309162616729736, '9, [180, 184, 133, 239, 103, 14, 175, 64, 220], [0.4, 0.5, 0.30000000000000004, 0.1, 0.1, 0.4, 0.4, 0.4, 0.6000000000000001]': 1.277423620223999, '9, [30, 254, 148, 250, 57, 163, 224, 88, 253], [0.30000000000000004, 0.2, 0.0, 0.0, 0.4, 0.0, 0.4, 0.6000000000000001, 0.0]': 6.640503406524658, '5, [119, 193, 212, 70, 130], [0.2, 0.6000000000000001, 0.5, 0.6000000000000001, 0.0]': 18.70648193359375, '6, [160, 224, 163, 251, 142, 29], [0.6000000000000001, 0.2, 0.0, 0.6000000000000001, 0.30000000000000004, 0.1]': 18.788589477539062, '9, [27, 251, 96, 132, 5, 98, 162, 191, 247], [0.30000000000000004, 0.6000000000000001, 0.0, 0.1, 0.1, 0.0, 0.4, 0.5, 0.0]': 0.8920310139656067, '1, [30], [0.0]': 1.7354720830917358, '8, [81, 164, 111, 68, 26, 130, 184, 144], [0.2, 0.0, 0.4, 0.5, 0.4, 0.5, 0.1, 0.0]': 11.94788646697998, '8, [251, 216, 67, 149, 77, 70, 202, 21], [0.4, 0.1, 0.4, 0.2, 0.30000000000000004, 0.30000000000000004, 0.0, 0.5]': 10.540814399719238, '9, [43, 41, 84, 59, 40, 19, 153, 216, 84], [0.6000000000000001, 0.30000000000000004, 0.2, 0.2, 0.2, 0.1, 0.5, 0.1, 0.6000000000000001]': 14.473097801208496, '4, [99, 238, 144, 99], [0.1, 0.4, 0.4, 0.0]': 9.002452850341797, '8, [25, 223, 71, 133, 178, 127, 221, 148], [0.4, 0.0, 0.2, 0.6000000000000001, 0.4, 0.5, 0.1, 0.30000000000000004]': 11.720247268676758, '1, [170], [0.4]': 0.8584543466567993, '9, [108, 96, 206, 222, 32, 113, 128, 244, 200], [0.5, 0.6000000000000001, 0.1, 0.2, 0.30000000000000004, 0.1, 0.2, 0.0, 0.5]': 2.192035436630249, '8, [40, 185, 182, 200, 6, 171, 151, 114], [0.30000000000000004, 0.5, 0.6000000000000001, 0.6000000000000001, 0.1, 0.6000000000000001, 0.30000000000000004, 0.4]': 18.863611221313477, '1, [59], [0.5]': 3.1572985649108887, '6, [73, 32, 124, 45, 113, 239], [0.5, 0.5, 0.4, 0.30000000000000004, 0.2, 0.5]': 18.9199275970459, '3, [134, 104, 137], [0.2, 0.2, 0.2]': 4.051641464233398, '4, [32, 182, 132, 180], [0.6000000000000001, 0.30000000000000004, 0.0, 0.6000000000000001]': 15.483160018920898, '8, [98, 85, 102, 163, 228, 120, 150, 67], [0.2, 0.5, 0.5, 0.1, 0.1, 0.30000000000000004, 0.6000000000000001, 0.6000000000000001]': 17.17838478088379, '8, [145, 25, 100, 246, 239, 25, 148, 32], [0.1, 0.0, 0.0, 0.5, 0.0, 0.0, 0.30000000000000004, 0.5]': 2.797895669937134, '8, [90, 119, 35, 166, 131, 146, 196, 46], [0.6000000000000001, 0.5, 0.2, 0.4, 0.5, 0.1, 0.2, 0.6000000000000001]': 22.4460506439209, '6, [216, 27, 23, 114, 14, 68], [0.5, 0.1, 0.6000000000000001, 0.30000000000000004, 0.0, 0.5]': 11.050291061401367, '6, [165, 103, 200, 42, 12, 244], [0.1, 0.1, 0.5, 0.5, 0.2, 0.5]': 4.676361560821533, '3, [166, 223, 61], [0.0, 0.4, 0.2]': 1.539175271987915, '8, [67, 10, 92, 90, 213, 231, 23, 163], [0.6000000000000001, 0.0, 0.2, 0.6000000000000001, 0.30000000000000004, 0.6000000000000001, 0.6000000000000001, 0.2]': 15.140630722045898, '1, [68], [0.5]': 1.3114945888519287, '4, [197, 235, 253, 180], [0.2, 0.4, 0.4, 0.1]': 9.727952003479004, '4, [209, 123, 8, 248], [0.6000000000000001, 0.5, 0.1, 0.6000000000000001]': 7.51611852645874, '1, [65], [0.6000000000000001]': 1.3311362266540527, '8, [92, 226, 241, 250, 133, 80, 253, 95], [0.1, 0.4, 0.5, 0.0, 0.30000000000000004, 0.4, 0.6000000000000001, 0.1]': 12.821858406066895, '7, [211, 64, 96, 125, 99, 220, 185], [0.4, 0.30000000000000004, 0.0, 0.30000000000000004, 0.6000000000000001, 0.6000000000000001, 0.0]': 12.662321090698242, '4, [95, 179, 231, 78], [0.4, 0.6000000000000001, 0.1, 0.6000000000000001]': 17.790685653686523, '6, [99, 26, 44, 147, 99, 190], [0.30000000000000004, 0.30000000000000004, 0.6000000000000001, 0.30000000000000004, 0.30000000000000004, 0.30000000000000004]': 17.915895462036133, '6, [45, 59, 191, 233, 16, 26], [0.0, 0.2, 0.4, 0.2, 0.6000000000000001, 0.30000000000000004]': 8.165569305419922, '5, [207, 11, 61, 82, 227], [0.0, 0.4, 0.2, 0.0, 0.5]': 5.660177707672119, '5, [17, 143, 18, 216, 80], [0.2, 0.6000000000000001, 0.6000000000000001, 0.2, 0.1]': 19.174646377563477, '2, [66, 199], [0.6000000000000001, 0.1]': 15.015307426452637, '5, [171, 52, 176, 132, 59], [0.0, 0.5, 0.6000000000000001, 0.5, 0.5]': 13.949586868286133, '7, [83, 64, 32, 228, 81, 98, 159], [0.6000000000000001, 0.4, 0.2, 0.1, 0.0, 0.0, 0.6000000000000001]': 13.173051834106445, '4, [129, 251, 183, 72], [0.5, 0.4, 0.5, 0.5]': 16.228418350219727, '4, [66, 246, 74, 35], [0.2, 0.5, 0.5, 0.30000000000000004]': 19.423673629760742, '2, [216, 23], [0.5, 0.1]': 2.873628854751587, '5, [207, 43, 180, 81, 139], [0.2, 0.4, 0.1, 0.0, 0.6000000000000001]': 8.710935592651367, '5, [87, 123, 27, 229, 112], [0.4, 0.6000000000000001, 0.0, 0.0, 0.1]': 16.085697174072266, '9, [158, 33, 43, 33, 28, 36, 173, 213, 203], [0.4, 0.1, 0.5, 0.1, 0.30000000000000004, 0.1, 0.1, 0.2, 0.6000000000000001]': 0.8128877282142639, '2, [73, 185], [0.5, 0.30000000000000004]': 10.467530250549316, '2, [244, 150], [0.1, 0.2]': 1.0111805200576782, '2, [192, 179], [0.30000000000000004, 0.6000000000000001]': 3.308938503265381, '8, [112, 168, 65, 7, 197, 45, 171, 25], [0.4, 0.5, 0.1, 0.1, 0.4, 0.5, 0.6000000000000001, 0.4]': 8.76203727722168, '3, [225, 239, 15], [0.30000000000000004, 0.2, 0.5]': 5.975555896759033, '5, [193, 53, 54, 164, 61], [0.30000000000000004, 0.0, 0.6000000000000001, 0.6000000000000001, 0.1]': 16.60588264465332, '4, [84, 89, 25, 86], [0.1, 0.2, 0.2, 0.0]': 3.9269931316375732, '7, [176, 118, 152, 156, 66, 95, 193], [0.0, 0.2, 0.2, 0.1, 0.30000000000000004, 0.0, 0.1]': 7.763626575469971, '7, [57, 84, 188, 53, 30, 63, 234], [0.4, 0.6000000000000001, 0.5, 0.1, 0.2, 0.4, 0.4]': 13.930830955505371, '3, [161, 102, 21], [0.6000000000000001, 0.6000000000000001, 0.0]': 9.984457015991211, '9, [238, 43, 193, 246, 20, 119, 184, 198, 116], [0.2, 0.1, 0.4, 0.0, 0.5, 0.30000000000000004, 0.30000000000000004, 0.5, 0.6000000000000001]': 0.9563859701156616, '8, [237, 64, 52, 202, 50, 72, 228, 99], [0.1, 0.6000000000000001, 0.0, 0.5, 0.30000000000000004, 0.2, 0.0, 0.6000000000000001]': 5.896737098693848, '6, [34, 83, 80, 97, 184, 134], [0.6000000000000001, 0.30000000000000004, 0.0, 0.30000000000000004, 0.0, 0.1]': 16.30754852294922, '9, [132, 135, 132, 246, 144, 208, 101, 184, 199], [0.2, 0.0, 0.5, 0.5, 0.6000000000000001, 0.2, 0.4, 0.1, 0.5]': 7.897641181945801, '7, [197, 136, 115, 254, 144, 114, 175], [0.5, 0.30000000000000004, 0.30000000000000004, 0.1, 0.4, 0.4, 0.6000000000000001]': 13.990517616271973, '5, [203, 115, 114, 24, 115], [0.1, 0.4, 0.0, 0.6000000000000001, 0.6000000000000001]': 12.252695083618164, '8, [17, 54, 234, 155, 217, 106, 250, 162], [0.6000000000000001, 0.2, 0.4, 0.1, 0.2, 0.6000000000000001, 0.6000000000000001, 0.2]': 12.137211799621582, '8, [218, 92, 252, 200, 211, 119, 96, 26], [0.6000000000000001, 0.0, 0.0, 0.4, 0.4, 0.0, 0.30000000000000004, 0.30000000000000004]': 8.12890338897705, '6, [232, 94, 122, 10, 15, 128], [0.2, 0.5, 0.1, 0.2, 0.2, 0.30000000000000004]': 7.072057723999023, '6, [97, 107, 183, 52, 137, 47], [0.4, 0.6000000000000001, 0.30000000000000004, 0.30000000000000004, 0.30000000000000004, 0.30000000000000004]': 21.89803123474121, '3, [204, 134, 87], [0.5, 0.2, 0.2]': 7.725082874298096, '3, [56, 52, 21], [0.30000000000000004, 0.1, 0.6000000000000001]': 8.841976165771484, '4, [201, 204, 212, 197], [0.1, 0.4, 0.30000000000000004, 0.0]': 8.070650100708008, '8, [140, 79, 85, 62, 88, 199, 226, 99], [0.4, 0.5, 0.2, 0.4, 0.1, 0.5, 0.4, 0.5]': 21.281118392944336, '2, [44, 89], [0.0, 0.6000000000000001]': 1.5041817426681519, '2, [206, 195], [0.1, 0.6000000000000001]': 2.1183736324310303, '3, [142, 71, 106], [0.2, 0.1, 0.2]': 2.999555826187134, '3, [90, 62, 203], [0.0, 0.2, 0.30000000000000004]': 0.8538010716438293, '3, [117, 103, 82], [0.5, 0.2, 0.6000000000000001]': 8.798853874206543, '1, [145], [0.6000000000000001]': 1.7264758348464966, '3, [56, 151, 18], [0.5, 0.5, 0.6000000000000001]': 16.76655387878418, '2, [90, 27], [0.30000000000000004, 0.6000000000000001]': 7.69212532043457, '2, [125, 80], [0.5, 0.2]': 12.856072425842285, '4, [231, 86, 164, 124], [0.0, 0.0, 0.0, 0.4]': 0.6561253666877747, '1, [181], [0.0]': 0.7668865323066711, '5, [63, 217, 113, 19, 200], [0.2, 0.5, 0.0, 0.4, 0.30000000000000004]': 10.146485328674316, '2, [76, 252], [0.30000000000000004, 0.5]': 4.945230007171631, '8, [100, 175, 144, 250, 83, 199, 95, 141], [0.30000000000000004, 0.5, 0.1, 0.4, 0.4, 0.5, 0.30000000000000004, 0.0]': 14.339253425598145, '9, [13, 57, 13, 224, 160, 39, 112, 206, 51], [0.0, 0.2, 0.6000000000000001, 0.4, 0.1, 0.30000000000000004, 0.1, 0.0, 0.6000000000000001]': 1.5780082941055298, '7, [215, 53, 255, 189, 152, 69, 137], [0.2, 0.6000000000000001, 0.1, 0.2, 0.6000000000000001, 0.1, 0.6000000000000001]': 13.005779266357422, '7, [130, 253, 145, 29, 24, 76, 74], [0.0, 0.4, 0.1, 0.1, 0.6000000000000001, 0.0, 0.4]': 12.162253379821777, '7, [195, 31, 79, 36, 33, 224, 130], [0.2, 0.2, 0.6000000000000001, 0.0, 0.5, 0.6000000000000001, 0.30000000000000004]': 7.755713939666748, '6, [80, 180, 89, 44, 237, 120], [0.1, 0.5, 0.5, 0.30000000000000004, 0.5, 0.0]': 13.451650619506836, '8, [102, 147, 247, 144, 230, 144, 201, 159], [0.1, 0.30000000000000004, 0.6000000000000001, 0.0, 0.30000000000000004, 0.2, 0.2, 0.6000000000000001]': 9.721613883972168, '2, [117, 202], [0.0, 0.0]': 0.8555905818939209, '8, [141, 156, 154, 220, 197, 81, 83, 19], [0.6000000000000001, 0.0, 0.5, 0.0, 0.1, 0.1, 0.1, 0.30000000000000004]': 13.970535278320312, '6, [211, 193, 31, 206, 54, 98], [0.1, 0.5, 0.2, 0.6000000000000001, 0.0, 0.0]': 11.344202995300293, '5, [55, 8, 7, 31, 79], [0.5, 0.5, 0.0, 0.6000000000000001, 0.5]': 9.908918380737305, '3, [168, 197, 86], [0.1, 0.6000000000000001, 0.6000000000000001]': 11.712173461914062, '2, [111, 172], [0.0, 0.6000000000000001]': 0.8054484724998474, '5, [103, 197, 152, 171, 37], [0.1, 0.30000000000000004, 0.6000000000000001, 0.30000000000000004, 0.30000000000000004]': 11.668394088745117, '9, [114, 222, 186, 19, 122, 53, 133, 53, 156], [0.4, 0.4, 0.2, 0.4, 0.5, 0.5, 0.0, 0.5, 0.1]': 12.16345500946045, '1, [35], [0.4]': 2.5503909587860107, '9, [28, 182, 172, 114, 52, 141, 43, 201, 35], [0.5, 0.6000000000000001, 0.1, 0.4, 0.0, 0.0, 0.30000000000000004, 0.2, 0.0]': 15.442755699157715, '5, [37, 133, 110, 197, 148], [0.30000000000000004, 0.2, 0.1, 0.5, 0.6000000000000001]': 15.029218673706055, '9, [106, 145, 112, 136, 168, 215, 141, 189, 136], [0.6000000000000001, 0.0, 0.5, 0.1, 0.30000000000000004, 0.4, 0.0, 0.30000000000000004, 0.2]': 9.924471855163574, '3, [105, 142, 151], [0.0, 0.6000000000000001, 0.5]': 6.507671356201172, '9, [49, 223, 176, 68, 201, 247, 137, 248, 221], [0.6000000000000001, 0.1, 0.6000000000000001, 0.30000000000000004, 0.0, 0.4, 0.1, 0.30000000000000004, 0.6000000000000001]': 4.246745586395264, '3, [80, 95, 11], [0.4, 0.2, 0.2]': 6.340730667114258, '9, [201, 107, 105, 180, 201, 131, 92, 239, 199], [0.4, 0.6000000000000001, 0.1, 0.1, 0.6000000000000001, 0.30000000000000004, 0.2, 0.1, 0.6000000000000001]': 7.091283321380615, '6, [170, 252, 198, 82, 211, 230], [0.5, 0.6000000000000001, 0.0, 0.6000000000000001, 0.0, 0.0]': 21.329654693603516, '3, [96, 52, 238], [0.6000000000000001, 0.5, 0.1]': 19.54014778137207, '8, [240, 226, 14, 17, 168, 70, 106, 68], [0.4, 0.1, 0.5, 0.0, 0.4, 0.5, 0.5, 0.30000000000000004]': 14.713384628295898, '7, [100, 87, 190, 101, 252, 95, 19], [0.4, 0.4, 0.4, 0.2, 0.2, 0.5, 0.6000000000000001]': 21.497114181518555, '6, [9, 114, 136, 76, 90, 165], [0.6000000000000001, 0.30000000000000004, 0.6000000000000001, 0.30000000000000004, 0.30000000000000004, 0.0]': 22.48457908630371, '2, [56, 165], [0.1, 0.1]': 0.8712928891181946, '9, [47, 17, 53, 10, 45, 247, 236, 48, 35], [0.5, 0.0, 0.6000000000000001, 0.2, 0.5, 0.30000000000000004, 0.1, 0.1, 0.2]': 10.715376853942871, '7, [136, 123, 205, 9, 175, 123, 178], [0.0, 0.30000000000000004, 0.0, 0.6000000000000001, 0.30000000000000004, 0.2, 0.1]': 8.771114349365234, '1, [179], [0.30000000000000004]': 0.7927210330963135}\n",
      "0.6474922299385071\n"
     ]
    }
   ],
   "source": [
    "print(res)\n",
    "print(min(res.values()))"
   ]
  },
  {
   "cell_type": "code",
   "execution_count": 17,
   "metadata": {},
   "outputs": [
    {
     "name": "stdout",
     "output_type": "stream",
     "text": [
      "0.6188573837280273\n",
      "2, [255, 27], [0.0, 0.0]\n"
     ]
    }
   ],
   "source": [
    "print(min(res2.values()))\n",
    "print(list(res2.keys())[list(res2.values()).index(min(res2.values()))])"
   ]
  }
 ],
 "metadata": {
  "colab": {
   "include_colab_link": true,
   "provenance": []
  },
  "kernelspec": {
   "display_name": "TensorFlow",
   "language": "python",
   "name": "python3"
  },
  "language_info": {
   "codemirror_mode": {
    "name": "ipython",
    "version": 3
   },
   "file_extension": ".py",
   "mimetype": "text/x-python",
   "name": "python",
   "nbconvert_exporter": "python",
   "pygments_lexer": "ipython3",
   "version": "3.9.20"
  }
 },
 "nbformat": 4,
 "nbformat_minor": 0
}

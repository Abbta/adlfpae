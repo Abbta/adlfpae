{
  "nbformat": 4,
  "nbformat_minor": 0,
  "metadata": {
    "colab": {
      "provenance": [],
      "include_colab_link": true
    },
    "kernelspec": {
      "name": "python3",
      "display_name": "Python 3"
    },
    "language_info": {
      "name": "python"
    }
  },
  "cells": [
    {
      "cell_type": "markdown",
      "metadata": {
        "id": "view-in-github",
        "colab_type": "text"
      },
      "source": [
        "<a href=\"https://colab.research.google.com/github/Abbta/adlfpae/blob/main/Exercise_6_4_MNIST.ipynb\" target=\"_parent\"><img src=\"https://colab.research.google.com/assets/colab-badge.svg\" alt=\"Open In Colab\"/></a>"
      ]
    },
    {
      "cell_type": "markdown",
      "metadata": {
        "id": "9cA_kcvoB3-O"
      },
      "source": [
        "**Exercise 6.4**\n",
        "\n",
        "MNIST with fully connected networks and grid/random search"
      ]
    },
    {
      "cell_type": "code",
      "metadata": {
        "id": "2UyhnBFQomM8"
      },
      "source": [
        "import numpy as np\n",
        "import matplotlib.pyplot as plt\n",
        "import os\n",
        "import tensorflow as tf\n",
        "from tabulate import tabulate\n",
        "from tensorflow.keras import layers"
      ],
      "execution_count": null,
      "outputs": []
    },
    {
      "cell_type": "markdown",
      "metadata": {
        "id": "Se2-q7KoddJ0"
      },
      "source": [
        "The MNIST data base of handwritten numbers is directly available through KERAS. The following codeblocks download and preprocess the data."
      ]
    },
    {
      "cell_type": "code",
      "metadata": {
        "id": "bhMqBcW9pIGl"
      },
      "source": [
        "(x_train, y_train), (x_test, y_test) = tf.keras.datasets.mnist.load_data()\n",
        "\n",
        "x_valid = x_test[8000:]\n",
        "y_valid = y_test[8000:]\n",
        "x_test = x_test[:8000]\n",
        "y_test = y_test[:8000]\n",
        "\n",
        "# Hint: convert integer RGB values (0-255) to float values (0-1)\n"
      ],
      "execution_count": null,
      "outputs": []
    },
    {
      "cell_type": "code",
      "metadata": {
        "id": "CtfKNKw2pohq"
      },
      "source": [
        "print(\"x_train shape:\", x_train.shape)\n",
        "print(x_train.shape[0], \"train samples\")\n",
        "print(x_valid.shape[0], \"validation samples\")\n",
        "print(x_test.shape[0], \"test samples\")"
      ],
      "execution_count": null,
      "outputs": []
    },
    {
      "cell_type": "markdown",
      "metadata": {
        "id": "7QNQLm-Vdrj4"
      },
      "source": [
        "In this exercise, a fully connected neural network is used to predict the handwritten numbers. To do this, we reformat the pictures with 28x28 pixels into a vector with a length of 28x28=784."
      ]
    },
    {
      "cell_type": "code",
      "metadata": {
        "id": "MjiaSxfZqSTF"
      },
      "source": [
        "# reshape the image matrices to vectors\n",
        "x_train = x_train.reshape(-1, 28**2)\n",
        "x_valid = x_valid.reshape(-1, 28**2)\n",
        "x_test = x_test.reshape(-1, 28**2)\n",
        "print(\"x_train shape:\", x_train.shape)"
      ],
      "execution_count": null,
      "outputs": []
    },
    {
      "cell_type": "markdown",
      "metadata": {
        "id": "Ceq-buDaeDzK"
      },
      "source": [
        "We use \"onehot\" encoding of the classes. This means a \"zero\" is encoded as `[1,0,0,0,0,0,0,0,0,0]` and a \"one\" as `[0,1,0,0,0,0,0,0,0,0]` etc.\n",
        "This is done because our network will have ten output nodes with the output node with the largest value being the predicted number."
      ]
    },
    {
      "cell_type": "code",
      "metadata": {
        "id": "JrY-diyvpw3b"
      },
      "source": [
        "# convert class vectors to binary class matrices (10 numbers/classes)\n",
        "y_train_onehot = tf.keras.utils.to_categorical(y_train, 10)\n",
        "y_valid_onehot = tf.keras.utils.to_categorical(y_valid, 10)\n",
        "y_test_onehot = tf.keras.utils.to_categorical(y_test, 10)"
      ],
      "execution_count": null,
      "outputs": []
    },
    {
      "cell_type": "code",
      "metadata": {
        "id": "BCx9E6TKSqZS"
      },
      "source": [
        "# define model here\n",
        "model = tf.keras.models.Sequential([\n",
        "    layers.Dense(, input_shape=(784,)),\n",
        "    ...\n",
        "    layers.Dense(10),\n",
        "    layers.Activation('softmax')])  # softmax actication to transform output into probabiliites\n",
        "\n",
        "print(model.summary())"
      ],
      "execution_count": null,
      "outputs": []
    },
    {
      "cell_type": "code",
      "metadata": {
        "id": "cHOs__1bsUFw"
      },
      "source": [
        "model.compile(\n",
        "    loss='categorical_crossentropy',  # the recommended loss for a classification task is 'categorical_crossentropy' (see lecture for details)\n",
        "    optimizer=,\n",
        "    metrics=['accuracy']) # we use accuracy to quanitfy to network performance.\n",
        "\n",
        "# define callbacks for training\n",
        "save_best = tf.keras.callbacks.ModelCheckpoint(\n",
        "    \"best_model_{}.weights.h5\".format(model.name),\n",
        "    save_best_only=True,\n",
        "    monitor=\"val_accuracy\",\n",
        "    save_weights_only=True,\n",
        ")\n",
        "\n",
        "# Keras calculates training accuracy and loss during the training and with regularization applied,\n",
        "# while the validation metrics are calculated at the end of each epoch.\n",
        "# This callback calculates the training metrics the same way as for the validation\n",
        "class CalculateMetrics(tf.keras.callbacks.Callback):\n",
        "    def on_epoch_end(self, epoch, logs={}):\n",
        "        train_loss, train_acc = model.evaluate(x_train, y_train_onehot, verbose=0)\n",
        "        logs[\"train_loss\"] = train_loss\n",
        "        logs[\"train_acc\"] = train_acc\n",
        "\n",
        "results = model.fit(\n",
        "    x_train, y_train_onehot,\n",
        "    validation_data=(x_valid, y_valid_onehot),\n",
        "\n",
        "    batch_size=,\n",
        "    epochs=10,\n",
        "    callbacks=[\n",
        "        save_best,\n",
        "        CalculateMetrics(),\n",
        "        tf.keras.callbacks.CSVLogger(\"history_{}.csv\".format(model.name))\n",
        "    ]\n",
        "    )"
      ],
      "execution_count": null,
      "outputs": []
    },
    {
      "cell_type": "code",
      "metadata": {
        "id": "CSpacCi6uauS"
      },
      "source": [
        "# load best model\n",
        "model.load_weights(f\"best_model_{model.name}.weights.h5\")\n",
        "\n",
        "# ------------------------\n",
        "# ---     Plotting     ---\n",
        "# ------------------------\n",
        "\n",
        "# plot training history\n",
        "history = np.genfromtxt(f\"history_{model.name}.csv\", delimiter=\",\", names=True)\n",
        "# add plots below\n"
      ],
      "execution_count": null,
      "outputs": []
    },
    {
      "cell_type": "code",
      "metadata": {
        "id": "jErly75Vua2S"
      },
      "source": [
        "# evaluate performance\n",
        "\n",
        "print(\"Model performance :\")\n",
        "headers = [\"\", \"Loss\", \"Accuracy\", \"Test error rate [%]\"]\n",
        "\n",
        "table = [\n",
        "    [\"Train\", *model.evaluate(x_train, y_train_onehot, verbose=0, batch_size=128), (1-model.evaluate(x_train, y_train_onehot, verbose=0, batch_size=128)[1])*100 ],\n",
        "    [\"Validation\", *model.evaluate(x_valid, y_valid_onehot, verbose=0, batch_size=128), (1-model.evaluate(x_valid, y_valid_onehot, verbose=0, batch_size=128)[1])*100 ],\n",
        "    [\"Test\", *model.evaluate(x_test, y_test_onehot, verbose=0, batch_size=128), (1-model.evaluate(x_test, y_test_onehot, verbose=0, batch_size=128)[1])*100 ],\n",
        "]\n",
        "\n",
        "print(tabulate(table, headers=headers, tablefmt=\"orgtbl\"))"
      ],
      "execution_count": null,
      "outputs": []
    },
    {
      "cell_type": "markdown",
      "metadata": {
        "id": "rOUk5R71GRUo"
      },
      "source": [
        "You can compare your own results with a variety of different models: http://yann.lecun.com/exdb/mnist/ and https://en.wikipedia.org/wiki/MNIST_database"
      ]
    },
    {
      "cell_type": "markdown",
      "metadata": {
        "id": "vj-JeG9_kIc-"
      },
      "source": [
        "The following codeblocks define some helper functions for plotting. You don't need to touch them"
      ]
    },
    {
      "cell_type": "code",
      "metadata": {
        "id": "kCxC5DPEkGLn",
        "cellView": "form"
      },
      "source": [
        "#@title\n",
        "def plot_image(X, ax=None):\n",
        "    \"\"\"Plot an image X.\n",
        "\n",
        "    Args:\n",
        "        X (2D array): image, grayscale or RGB\n",
        "        ax (None, optional): Description\n",
        "    \"\"\"\n",
        "    if ax is None:\n",
        "        ax = plt.gca()\n",
        "\n",
        "    if (X.ndim == 2) or (X.shape[-1] == 1):\n",
        "        ax.imshow(X.astype('uint8'), origin='upper', cmap=plt.cm.Greys)\n",
        "    else:\n",
        "        ax.imshow(X.astype('uint8'), origin='upper')\n",
        "\n",
        "    ax.set(xticks=[], yticks=[])\n",
        "\n",
        "def plot_prediction(Yp, X, y, classes=None, top_n=False):\n",
        "    \"\"\"Plot an image along with all or the top_n predictions.\n",
        "\n",
        "    Args:\n",
        "        Yp (1D array): predicted probabilities for each class\n",
        "        X (2D array): image\n",
        "        y (integer): true class label\n",
        "        classes (1D array, optional): class names\n",
        "        top_n (int, optional): number of top predictions to show\n",
        "    \"\"\"\n",
        "    fig, (ax1, ax2) = plt.subplots(1, 2, figsize=(6, 3.2))\n",
        "    plt.subplots_adjust(left=0.02, right=0.98, bottom=0.15, top=0.98, wspace=0.02)\n",
        "    plot_image(X, ax1)\n",
        "\n",
        "    if top_n:\n",
        "        n = top_n\n",
        "        s = np.argsort(Yp)[-top_n:]\n",
        "    else:\n",
        "        n = len(Yp)\n",
        "        s = np.arange(n)[::-1]\n",
        "\n",
        "    patches = ax2.barh(np.arange(n), Yp[s], align='center')\n",
        "    ax2.set(xlim=(0, 1), xlabel='Probability', yticks=[])\n",
        "\n",
        "    for iy, patch in zip(s, patches):\n",
        "        if iy == y:\n",
        "            patch.set_facecolor('C1')  # color correct patch\n",
        "\n",
        "    if classes is None:\n",
        "        classes = np.arange(0, np.size(Yp))\n",
        "\n",
        "    for i in range(n):\n",
        "        ax2.text(0.05, i, classes[s][i], ha='left', va='center')\n",
        "\n",
        "    plt.show()\n",
        "\n",
        "def plot_confusion(yp, y, classes=None, fname=None):\n",
        "    \"\"\"Plot confusion matrix for given true and predicted class labels\n",
        "\n",
        "    Args:\n",
        "        yp (1D array): predicted class labels\n",
        "        y (1D array): true class labels\n",
        "        classes (1D array): class names\n",
        "        fname (str, optional): filename for saving the plot\n",
        "    \"\"\"\n",
        "    if classes is None:\n",
        "        n = max(max(yp), max(y)) + 1\n",
        "        classes = np.arange(n)\n",
        "    else:\n",
        "        n = len(classes)\n",
        "\n",
        "    bins = np.linspace(-0.5, n - 0.5, n + 1)\n",
        "    C = np.histogram2d(y, yp, bins=bins)[0]\n",
        "    C = C / np.sum(C, axis=0) * 100\n",
        "\n",
        "    fig = plt.figure(figsize=(8, 8))\n",
        "    plt.imshow(C, interpolation='nearest', vmin=0, vmax=100, cmap=plt.cm.YlGnBu)\n",
        "    plt.gca().set_aspect('equal')\n",
        "    cbar = plt.colorbar(shrink=0.8)\n",
        "    cbar.set_label('Frequency %')\n",
        "    plt.xlabel('Prediction')\n",
        "    plt.ylabel('Truth')\n",
        "    plt.xticks(range(n), classes, rotation='vertical')\n",
        "    plt.yticks(range(n), classes)\n",
        "    for x in range(n):\n",
        "        for y in range(n):\n",
        "            if np.isnan(C[x, y]):\n",
        "                continue\n",
        "            color = 'white' if x == y else 'black'\n",
        "            plt.annotate('%.1f' % (C[x, y]), xy=(y, x), color=color, ha='center', va='center')\n",
        "\n",
        "    plt.show()"
      ],
      "execution_count": null,
      "outputs": []
    },
    {
      "cell_type": "code",
      "metadata": {
        "id": "ZnfMRRv4kaKF"
      },
      "source": [
        "# plot a few examples, loop over test dataset:\n",
        "# get missidentified samples\n",
        "output = model.predict(x_test, batch_size=128)\n",
        "labels = np.argmax(y_test_onehot, axis=1)\n",
        "predictions = np.argmax(output, axis=1)\n",
        "plot_confusion(predictions, labels)\n",
        "\n",
        "for i in range(10): # loop over first 10 test samples\n",
        "    plot_prediction(output[i],\n",
        "                    255 * np.reshape(x_test[i], (28, 28)), # we need to reshape the data into an image and convert back to RGB color scale by multiplying with 255\n",
        "                    labels[i])\n"
      ],
      "execution_count": null,
      "outputs": []
    },
    {
      "cell_type": "code",
      "metadata": {
        "id": "YLaI35N6xUEe"
      },
      "source": [
        "# now plot a few examples that were misclassified\n",
        "\n",
        "indices_miss = np.nonzero(predictions != labels)[0]\n",
        "x_missid = x_test[indices_miss]\n",
        "\n",
        "for i in indices_miss[:10]:\n",
        "    plot_prediction(output[i],\n",
        "                    255 * np.reshape(x_test[i], (28, 28)), # we need to reshape the data into an image and convert back to RGB color scale by multiplying with 255\n",
        "                    labels[i])\n",
        "\n",
        "# or plot 32 of them in a joint plot\n",
        "fig = plt.figure()\n",
        "ax = fig.add_subplot(111)\n",
        "plotdata = x_missid[:32]\n",
        "plotdata = np.hstack(np.concatenate(np.reshape(plotdata, (4, 8, 28, 28)), axis=1))\n",
        "ax.imshow(plotdata, cmap=\"gray\")\n"
      ],
      "execution_count": null,
      "outputs": []
    },
    {
      "cell_type": "markdown",
      "metadata": {
        "id": "f4Ztv69IuffB"
      },
      "source": [
        "**Grid search**\n",
        "\n",
        "Let's search the two hyperparameters dropout and number of nodes. You can start from the template below.\n",
        "\n"
      ]
    },
    {
      "cell_type": "code",
      "metadata": {
        "id": "V1uWtuoMvHqM"
      },
      "source": [
        "dropout_values = ...\n",
        "n_neurons_values = ...\n",
        "results_gridsearch = np.zeros((len(dropout_values), len(n_neurons_values), 2))\n",
        "for iDrop, drop in enumerate(dropout_values):\n",
        "  for iN, n_neurons in enumerate(n_neurons_values):\n",
        "    model = tf.keras.models.Sequential([\n",
        "        layers.Dense(, input_shape=(784,)),\n",
        "        ...\n",
        "        layers.Dense(10),\n",
        "        layers.Activation('softmax')])  # softmax actication to transform output into probabiliites\n",
        "\n",
        "    model.compile(\n",
        "        loss='categorical_crossentropy',  # the recommended loss for a classification task is 'categorical_crossentropy' (see lecture for details)\n",
        "        optimizer=...),\n",
        "        metrics=['accuracy']) # we use accuracy to quanitfy to network performance.\n",
        "\n",
        "    results = model.fit(\n",
        "        x_train, y_train_onehot,\n",
        "        validation_data=(x_valid, y_valid_onehot),\n",
        "        batch_size=,\n",
        "        epochs=10,\n",
        "        verbose=0\n",
        "        )\n",
        "    t = model.evaluate(x_test, y_test_onehot, verbose=0, batch_size=128)\n",
        "    results_gridsearch[iDrop, iN] = t\n",
        "    print(f\"dropout = {drop:.2f}, {n_neurons} neurons -> accuracy {results_gridsearch[iDrop, iN][1]:.3f}, error rate = {100*(1-results_gridsearch[iDrop, iN][1]):.1f}%\")\n"
      ],
      "execution_count": null,
      "outputs": []
    },
    {
      "cell_type": "markdown",
      "metadata": {
        "id": "OFxu8vLL00DM"
      },
      "source": [
        "**Random seach**\n",
        "\n",
        "Now lets implement a random search. A random search allows us to scan more hyperparameters at once without more computing time. You can start from the template below.\n",
        "\n",
        "\n"
      ]
    },
    {
      "cell_type": "code",
      "metadata": {
        "id": "-Vg6oy8L06tP"
      },
      "source": [
        "N = 20 # number of trials\n",
        "search = {\n",
        "'batch_size': np.random.choice([16, 32, 64, 128, 256], N),\n",
        "'num_neurons': np.random.choice([8, 32, 128, 256, 512], N),\n",
        "'learn_rate': np.random.choice([-5,-4, -3, -2, -1],N),\n",
        "'activation': np.random.choice(['relu', 'elu', 'sigmoid', 'tanh'], N),\n",
        "'dropout': np.random.choice([0.0, 0.1, 0.2, 0.3, 0.5, 0.6], N),\n",
        "'val_acc': np.zeros(N)\n",
        "}\n",
        "\n",
        "for i in range(N):\n",
        "  # you can access the current value of the hyperparameter with `search['batch_size'][i]`\n",
        "  model = tf.keras.models.Sequential([\n",
        "                      tf.keras.layers.Dense(..., input_shape=(784,)),\n",
        "                      ...\n",
        "                      tf.keras.layers.Dense(10, activation='softmax')])\n",
        "  model.compile(loss='categorical_crossentropy',\n",
        "  optimizer=...\n",
        "  results = model.fit(\n",
        "        x_train, y_train_onehot,\n",
        "        validation_data=(x_valid, y_valid_onehot),\n",
        "        batch_size=...,\n",
        "        epochs=10,\n",
        "        verbose=0\n",
        "      )\n",
        "  search['val_acc'][i] = model.evaluate(x_test, y_test_onehot, verbose=0, batch_size=128)[1]\n",
        "  print(f\"iteration {i}:\")\n",
        "  for key in search:\n",
        "    print(f\"\\t{key}: {search[key][i]}\")\n",
        "  print(f\"\\t-> accuracy {search['val_acc'][i]:.3f}, error rate = {100*(1-search['val_acc'][i]):.1f}%\")\n"
      ],
      "execution_count": null,
      "outputs": []
    }
  ]
}
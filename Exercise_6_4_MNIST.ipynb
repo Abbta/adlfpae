{
  "nbformat": 4,
  "nbformat_minor": 0,
  "metadata": {
    "colab": {
      "provenance": [],
      "gpuType": "T4",
      "include_colab_link": true
    },
    "kernelspec": {
      "name": "python3",
      "display_name": "Python 3"
    },
    "language_info": {
      "name": "python"
    },
    "accelerator": "GPU"
  },
  "cells": [
    {
      "cell_type": "markdown",
      "metadata": {
        "id": "view-in-github",
        "colab_type": "text"
      },
      "source": [
        "<a href=\"https://colab.research.google.com/github/Abbta/adlfpae/blob/main/Exercise_6_4_MNIST.ipynb\" target=\"_parent\"><img src=\"https://colab.research.google.com/assets/colab-badge.svg\" alt=\"Open In Colab\"/></a>"
      ]
    },
    {
      "cell_type": "markdown",
      "metadata": {
        "id": "9cA_kcvoB3-O"
      },
      "source": [
        "**Exercise 6.4**\n",
        "\n",
        "MNIST with fully connected networks and grid/random search"
      ]
    },
    {
      "cell_type": "code",
      "metadata": {
        "id": "2UyhnBFQomM8"
      },
      "source": [
        "import numpy as np\n",
        "import matplotlib.pyplot as plt\n",
        "import os\n",
        "import tensorflow as tf\n",
        "from tabulate import tabulate\n",
        "from tensorflow.keras import layers"
      ],
      "execution_count": 1,
      "outputs": []
    },
    {
      "cell_type": "markdown",
      "metadata": {
        "id": "Se2-q7KoddJ0"
      },
      "source": [
        "The MNIST data base of handwritten numbers is directly available through KERAS. The following codeblocks download and preprocess the data."
      ]
    },
    {
      "cell_type": "code",
      "source": [
        "(x_train, y_train), (x_test, y_test) = tf.keras.datasets.mnist.load_data()\n"
      ],
      "metadata": {
        "id": "3xrz72OpJJxt",
        "outputId": "b2e19e26-ff83-4093-c026-d1f7731d1c98",
        "colab": {
          "base_uri": "https://localhost:8080/"
        }
      },
      "execution_count": 2,
      "outputs": [
        {
          "output_type": "stream",
          "name": "stdout",
          "text": [
            "Downloading data from https://storage.googleapis.com/tensorflow/tf-keras-datasets/mnist.npz\n",
            "\u001b[1m11490434/11490434\u001b[0m \u001b[32m━━━━━━━━━━━━━━━━━━━━\u001b[0m\u001b[37m\u001b[0m \u001b[1m0s\u001b[0m 0us/step\n"
          ]
        }
      ]
    },
    {
      "cell_type": "code",
      "source": [
        "\n",
        "x_train = x_train / 255.0\n",
        "y_train = y_train / 255.0\n",
        "x_test = x_test / 255.0\n",
        "y_test = y_test / 255.0\n",
        "\n",
        "x_valid = x_test[8000:]\n",
        "y_valid = y_test[8000:]\n",
        "x_test = x_test[:8000]\n",
        "y_test = y_test[:8000]\n",
        "\n",
        "# Hint: convert integer RGB values (0-255) to float values (0-1)"
      ],
      "metadata": {
        "id": "2Xlr5Hi4Jn1S"
      },
      "execution_count": 3,
      "outputs": []
    },
    {
      "cell_type": "code",
      "metadata": {
        "id": "CtfKNKw2pohq",
        "outputId": "9c97839f-5783-4e26-cf37-3c29a7d78ef8",
        "colab": {
          "base_uri": "https://localhost:8080/"
        }
      },
      "source": [
        "print(\"x_train shape:\", x_train.shape)\n",
        "print(x_train.shape[0], \"train samples\")\n",
        "print(x_valid.shape[0], \"validation samples\")\n",
        "print(x_test.shape[0], \"test samples\")"
      ],
      "execution_count": 4,
      "outputs": [
        {
          "output_type": "stream",
          "name": "stdout",
          "text": [
            "x_train shape: (60000, 28, 28)\n",
            "60000 train samples\n",
            "2000 validation samples\n",
            "8000 test samples\n"
          ]
        }
      ]
    },
    {
      "cell_type": "markdown",
      "metadata": {
        "id": "7QNQLm-Vdrj4"
      },
      "source": [
        "In this exercise, a fully connected neural network is used to predict the handwritten numbers. To do this, we reformat the pictures with 28x28 pixels into a vector with a length of 28x28=784."
      ]
    },
    {
      "cell_type": "code",
      "metadata": {
        "id": "MjiaSxfZqSTF",
        "outputId": "fcb8930f-e3ed-4b32-c57a-bdd19a527390",
        "colab": {
          "base_uri": "https://localhost:8080/"
        }
      },
      "source": [
        "# reshape the image matrices to vectors\n",
        "x_train = x_train.reshape(-1, 28**2)\n",
        "x_valid = x_valid.reshape(-1, 28**2)\n",
        "x_test = x_test.reshape(-1, 28**2)\n",
        "print(\"x_train shape:\", x_train.shape)"
      ],
      "execution_count": 5,
      "outputs": [
        {
          "output_type": "stream",
          "name": "stdout",
          "text": [
            "x_train shape: (60000, 784)\n"
          ]
        }
      ]
    },
    {
      "cell_type": "markdown",
      "metadata": {
        "id": "Ceq-buDaeDzK"
      },
      "source": [
        "We use \"onehot\" encoding of the classes. This means a \"zero\" is encoded as `[1,0,0,0,0,0,0,0,0,0]` and a \"one\" as `[0,1,0,0,0,0,0,0,0,0]` etc.\n",
        "This is done because our network will have ten output nodes with the output node with the largest value being the predicted number."
      ]
    },
    {
      "cell_type": "code",
      "metadata": {
        "id": "JrY-diyvpw3b"
      },
      "source": [
        "# convert class vectors to binary class matrices (10 numbers/classes)\n",
        "y_train_onehot = tf.keras.utils.to_categorical(y_train, 10)\n",
        "y_valid_onehot = tf.keras.utils.to_categorical(y_valid, 10)\n",
        "y_test_onehot = tf.keras.utils.to_categorical(y_test, 10)"
      ],
      "execution_count": 6,
      "outputs": []
    },
    {
      "cell_type": "code",
      "metadata": {
        "id": "BCx9E6TKSqZS",
        "outputId": "2b530445-3e84-44d4-8e21-73d52f8daf0e",
        "colab": {
          "base_uri": "https://localhost:8080/",
          "height": 328
        }
      },
      "source": [
        "# define model here\n",
        "model = tf.keras.models.Sequential([\n",
        "    layers.Dense(128, input_dim=784, activation=\"relu\"),\n",
        "    layers.Dropout(0.3),\n",
        "    layers.Dense(10),\n",
        "    layers.Activation('softmax')])  # softmax actication to transform output into probabiliites\n",
        "\n",
        "print(model.summary())"
      ],
      "execution_count": 7,
      "outputs": [
        {
          "output_type": "stream",
          "name": "stderr",
          "text": [
            "/usr/local/lib/python3.10/dist-packages/keras/src/layers/core/dense.py:87: UserWarning: Do not pass an `input_shape`/`input_dim` argument to a layer. When using Sequential models, prefer using an `Input(shape)` object as the first layer in the model instead.\n",
            "  super().__init__(activity_regularizer=activity_regularizer, **kwargs)\n"
          ]
        },
        {
          "output_type": "display_data",
          "data": {
            "text/plain": [
              "\u001b[1mModel: \"sequential\"\u001b[0m\n"
            ],
            "text/html": [
              "<pre style=\"white-space:pre;overflow-x:auto;line-height:normal;font-family:Menlo,'DejaVu Sans Mono',consolas,'Courier New',monospace\"><span style=\"font-weight: bold\">Model: \"sequential\"</span>\n",
              "</pre>\n"
            ]
          },
          "metadata": {}
        },
        {
          "output_type": "display_data",
          "data": {
            "text/plain": [
              "┏━━━━━━━━━━━━━━━━━━━━━━━━━━━━━━━━━━━━━━┳━━━━━━━━━━━━━━━━━━━━━━━━━━━━━┳━━━━━━━━━━━━━━━━━┓\n",
              "┃\u001b[1m \u001b[0m\u001b[1mLayer (type)                        \u001b[0m\u001b[1m \u001b[0m┃\u001b[1m \u001b[0m\u001b[1mOutput Shape               \u001b[0m\u001b[1m \u001b[0m┃\u001b[1m \u001b[0m\u001b[1m        Param #\u001b[0m\u001b[1m \u001b[0m┃\n",
              "┡━━━━━━━━━━━━━━━━━━━━━━━━━━━━━━━━━━━━━━╇━━━━━━━━━━━━━━━━━━━━━━━━━━━━━╇━━━━━━━━━━━━━━━━━┩\n",
              "│ dense (\u001b[38;5;33mDense\u001b[0m)                        │ (\u001b[38;5;45mNone\u001b[0m, \u001b[38;5;34m128\u001b[0m)                 │         \u001b[38;5;34m100,480\u001b[0m │\n",
              "├──────────────────────────────────────┼─────────────────────────────┼─────────────────┤\n",
              "│ dropout (\u001b[38;5;33mDropout\u001b[0m)                    │ (\u001b[38;5;45mNone\u001b[0m, \u001b[38;5;34m128\u001b[0m)                 │               \u001b[38;5;34m0\u001b[0m │\n",
              "├──────────────────────────────────────┼─────────────────────────────┼─────────────────┤\n",
              "│ dense_1 (\u001b[38;5;33mDense\u001b[0m)                      │ (\u001b[38;5;45mNone\u001b[0m, \u001b[38;5;34m10\u001b[0m)                  │           \u001b[38;5;34m1,290\u001b[0m │\n",
              "├──────────────────────────────────────┼─────────────────────────────┼─────────────────┤\n",
              "│ activation (\u001b[38;5;33mActivation\u001b[0m)              │ (\u001b[38;5;45mNone\u001b[0m, \u001b[38;5;34m10\u001b[0m)                  │               \u001b[38;5;34m0\u001b[0m │\n",
              "└──────────────────────────────────────┴─────────────────────────────┴─────────────────┘\n"
            ],
            "text/html": [
              "<pre style=\"white-space:pre;overflow-x:auto;line-height:normal;font-family:Menlo,'DejaVu Sans Mono',consolas,'Courier New',monospace\">┏━━━━━━━━━━━━━━━━━━━━━━━━━━━━━━━━━━━━━━┳━━━━━━━━━━━━━━━━━━━━━━━━━━━━━┳━━━━━━━━━━━━━━━━━┓\n",
              "┃<span style=\"font-weight: bold\"> Layer (type)                         </span>┃<span style=\"font-weight: bold\"> Output Shape                </span>┃<span style=\"font-weight: bold\">         Param # </span>┃\n",
              "┡━━━━━━━━━━━━━━━━━━━━━━━━━━━━━━━━━━━━━━╇━━━━━━━━━━━━━━━━━━━━━━━━━━━━━╇━━━━━━━━━━━━━━━━━┩\n",
              "│ dense (<span style=\"color: #0087ff; text-decoration-color: #0087ff\">Dense</span>)                        │ (<span style=\"color: #00d7ff; text-decoration-color: #00d7ff\">None</span>, <span style=\"color: #00af00; text-decoration-color: #00af00\">128</span>)                 │         <span style=\"color: #00af00; text-decoration-color: #00af00\">100,480</span> │\n",
              "├──────────────────────────────────────┼─────────────────────────────┼─────────────────┤\n",
              "│ dropout (<span style=\"color: #0087ff; text-decoration-color: #0087ff\">Dropout</span>)                    │ (<span style=\"color: #00d7ff; text-decoration-color: #00d7ff\">None</span>, <span style=\"color: #00af00; text-decoration-color: #00af00\">128</span>)                 │               <span style=\"color: #00af00; text-decoration-color: #00af00\">0</span> │\n",
              "├──────────────────────────────────────┼─────────────────────────────┼─────────────────┤\n",
              "│ dense_1 (<span style=\"color: #0087ff; text-decoration-color: #0087ff\">Dense</span>)                      │ (<span style=\"color: #00d7ff; text-decoration-color: #00d7ff\">None</span>, <span style=\"color: #00af00; text-decoration-color: #00af00\">10</span>)                  │           <span style=\"color: #00af00; text-decoration-color: #00af00\">1,290</span> │\n",
              "├──────────────────────────────────────┼─────────────────────────────┼─────────────────┤\n",
              "│ activation (<span style=\"color: #0087ff; text-decoration-color: #0087ff\">Activation</span>)              │ (<span style=\"color: #00d7ff; text-decoration-color: #00d7ff\">None</span>, <span style=\"color: #00af00; text-decoration-color: #00af00\">10</span>)                  │               <span style=\"color: #00af00; text-decoration-color: #00af00\">0</span> │\n",
              "└──────────────────────────────────────┴─────────────────────────────┴─────────────────┘\n",
              "</pre>\n"
            ]
          },
          "metadata": {}
        },
        {
          "output_type": "display_data",
          "data": {
            "text/plain": [
              "\u001b[1m Total params: \u001b[0m\u001b[38;5;34m101,770\u001b[0m (397.54 KB)\n"
            ],
            "text/html": [
              "<pre style=\"white-space:pre;overflow-x:auto;line-height:normal;font-family:Menlo,'DejaVu Sans Mono',consolas,'Courier New',monospace\"><span style=\"font-weight: bold\"> Total params: </span><span style=\"color: #00af00; text-decoration-color: #00af00\">101,770</span> (397.54 KB)\n",
              "</pre>\n"
            ]
          },
          "metadata": {}
        },
        {
          "output_type": "display_data",
          "data": {
            "text/plain": [
              "\u001b[1m Trainable params: \u001b[0m\u001b[38;5;34m101,770\u001b[0m (397.54 KB)\n"
            ],
            "text/html": [
              "<pre style=\"white-space:pre;overflow-x:auto;line-height:normal;font-family:Menlo,'DejaVu Sans Mono',consolas,'Courier New',monospace\"><span style=\"font-weight: bold\"> Trainable params: </span><span style=\"color: #00af00; text-decoration-color: #00af00\">101,770</span> (397.54 KB)\n",
              "</pre>\n"
            ]
          },
          "metadata": {}
        },
        {
          "output_type": "display_data",
          "data": {
            "text/plain": [
              "\u001b[1m Non-trainable params: \u001b[0m\u001b[38;5;34m0\u001b[0m (0.00 B)\n"
            ],
            "text/html": [
              "<pre style=\"white-space:pre;overflow-x:auto;line-height:normal;font-family:Menlo,'DejaVu Sans Mono',consolas,'Courier New',monospace\"><span style=\"font-weight: bold\"> Non-trainable params: </span><span style=\"color: #00af00; text-decoration-color: #00af00\">0</span> (0.00 B)\n",
              "</pre>\n"
            ]
          },
          "metadata": {}
        },
        {
          "output_type": "stream",
          "name": "stdout",
          "text": [
            "None\n"
          ]
        }
      ]
    },
    {
      "cell_type": "code",
      "metadata": {
        "id": "cHOs__1bsUFw",
        "outputId": "9cecb17d-d5b0-4b79-97e3-a4e5e6245ad3",
        "colab": {
          "base_uri": "https://localhost:8080/"
        }
      },
      "source": [
        "model.compile(\n",
        "    loss='categorical_crossentropy',  # the recommended loss for a classification task is 'categorical_crossentropy' (see lecture for details)\n",
        "    optimizer=\"adam\",\n",
        "    metrics=['accuracy']) # we use accuracy to quanitfy to network performance.\n",
        "\n",
        "# define callbacks for training\n",
        "save_best = tf.keras.callbacks.ModelCheckpoint(\n",
        "    \"best_model_{}.weights.h5\".format(model.name),\n",
        "    save_best_only=True,\n",
        "    monitor=\"val_accuracy\",\n",
        "    save_weights_only=True,\n",
        ")\n",
        "\n",
        "# Keras calculates training accuracy and loss during the training and with regularization applied,\n",
        "# while the validation metrics are calculated at the end of each epoch.\n",
        "# This callback calculates the training metrics the same way as for the validation\n",
        "class CalculateMetrics(tf.keras.callbacks.Callback):\n",
        "    def on_epoch_end(self, epoch, logs={}):\n",
        "        train_loss, train_acc = model.evaluate(x_train, y_train_onehot, verbose=0)\n",
        "        logs[\"train_loss\"] = train_loss\n",
        "        logs[\"train_acc\"] = train_acc\n",
        "\n",
        "results = model.fit(\n",
        "    x_train, y_train_onehot,\n",
        "    validation_data=(x_valid, y_valid_onehot),\n",
        "\n",
        "    batch_size=1,\n",
        "    epochs=10,\n",
        "    callbacks=[\n",
        "        save_best,\n",
        "        CalculateMetrics(),\n",
        "        tf.keras.callbacks.CSVLogger(\"history_{}.csv\".format(model.name))\n",
        "    ]\n",
        "    )"
      ],
      "execution_count": 8,
      "outputs": [
        {
          "output_type": "stream",
          "name": "stdout",
          "text": [
            "Epoch 1/10\n",
            "\u001b[1m60000/60000\u001b[0m \u001b[32m━━━━━━━━━━━━━━━━━━━━\u001b[0m\u001b[37m\u001b[0m \u001b[1m115s\u001b[0m 2ms/step - accuracy: 0.9995 - loss: 0.0029 - val_accuracy: 1.0000 - val_loss: 0.0000e+00 - train_loss: 0.0000e+00 - train_acc: 1.0000\n",
            "Epoch 2/10\n",
            "\u001b[1m60000/60000\u001b[0m \u001b[32m━━━━━━━━━━━━━━━━━━━━\u001b[0m\u001b[37m\u001b[0m \u001b[1m99s\u001b[0m 2ms/step - accuracy: 1.0000 - loss: 3.6119e-12 - val_accuracy: 1.0000 - val_loss: 0.0000e+00 - train_loss: 0.0000e+00 - train_acc: 1.0000\n",
            "Epoch 3/10\n",
            "\u001b[1m60000/60000\u001b[0m \u001b[32m━━━━━━━━━━━━━━━━━━━━\u001b[0m\u001b[37m\u001b[0m \u001b[1m100s\u001b[0m 2ms/step - accuracy: 1.0000 - loss: 1.9620e-11 - val_accuracy: 1.0000 - val_loss: 0.0000e+00 - train_loss: 0.0000e+00 - train_acc: 1.0000\n",
            "Epoch 4/10\n",
            "\u001b[1m60000/60000\u001b[0m \u001b[32m━━━━━━━━━━━━━━━━━━━━\u001b[0m\u001b[37m\u001b[0m \u001b[1m141s\u001b[0m 2ms/step - accuracy: 1.0000 - loss: 0.0000e+00 - val_accuracy: 1.0000 - val_loss: 0.0000e+00 - train_loss: 0.0000e+00 - train_acc: 1.0000\n",
            "Epoch 5/10\n",
            "\u001b[1m60000/60000\u001b[0m \u001b[32m━━━━━━━━━━━━━━━━━━━━\u001b[0m\u001b[37m\u001b[0m \u001b[1m98s\u001b[0m 2ms/step - accuracy: 1.0000 - loss: 3.2446e-11 - val_accuracy: 1.0000 - val_loss: 0.0000e+00 - train_loss: 0.0000e+00 - train_acc: 1.0000\n",
            "Epoch 6/10\n",
            "\u001b[1m60000/60000\u001b[0m \u001b[32m━━━━━━━━━━━━━━━━━━━━\u001b[0m\u001b[37m\u001b[0m \u001b[1m99s\u001b[0m 2ms/step - accuracy: 1.0000 - loss: 7.0132e-12 - val_accuracy: 1.0000 - val_loss: 0.0000e+00 - train_loss: 0.0000e+00 - train_acc: 1.0000\n",
            "Epoch 7/10\n",
            "\u001b[1m60000/60000\u001b[0m \u001b[32m━━━━━━━━━━━━━━━━━━━━\u001b[0m\u001b[37m\u001b[0m \u001b[1m141s\u001b[0m 2ms/step - accuracy: 1.0000 - loss: 0.0000e+00 - val_accuracy: 1.0000 - val_loss: 0.0000e+00 - train_loss: 0.0000e+00 - train_acc: 1.0000\n",
            "Epoch 8/10\n",
            "\u001b[1m60000/60000\u001b[0m \u001b[32m━━━━━━━━━━━━━━━━━━━━\u001b[0m\u001b[37m\u001b[0m \u001b[1m143s\u001b[0m 2ms/step - accuracy: 1.0000 - loss: 1.1834e-11 - val_accuracy: 1.0000 - val_loss: 0.0000e+00 - train_loss: 0.0000e+00 - train_acc: 1.0000\n",
            "Epoch 9/10\n",
            "\u001b[1m60000/60000\u001b[0m \u001b[32m━━━━━━━━━━━━━━━━━━━━\u001b[0m\u001b[37m\u001b[0m \u001b[1m144s\u001b[0m 2ms/step - accuracy: 1.0000 - loss: 3.8385e-12 - val_accuracy: 1.0000 - val_loss: 0.0000e+00 - train_loss: 0.0000e+00 - train_acc: 1.0000\n",
            "Epoch 10/10\n",
            "\u001b[1m60000/60000\u001b[0m \u001b[32m━━━━━━━━━━━━━━━━━━━━\u001b[0m\u001b[37m\u001b[0m \u001b[1m139s\u001b[0m 2ms/step - accuracy: 1.0000 - loss: 1.2681e-11 - val_accuracy: 1.0000 - val_loss: 0.0000e+00 - train_loss: 0.0000e+00 - train_acc: 1.0000\n"
          ]
        }
      ]
    },
    {
      "cell_type": "code",
      "metadata": {
        "id": "CSpacCi6uauS",
        "outputId": "2a5bb68f-6566-4ca3-c083-dfff5ec63047",
        "colab": {
          "base_uri": "https://localhost:8080/",
          "height": 215
        }
      },
      "source": [
        "# load best model\n",
        "model.load_weights(f\"best_model_{model.name}.weights.h5\")\n",
        "\n",
        "# ------------------------\n",
        "# ---     Plotting     ---\n",
        "# ------------------------\n",
        "\n",
        "# plot training history\n",
        "history = np.genfromtxt(f\"history_{model.name}.csv\", delimiter=\",\", names=True)\n",
        "# add plots below\n"
      ],
      "execution_count": 1,
      "outputs": [
        {
          "output_type": "error",
          "ename": "NameError",
          "evalue": "name 'model' is not defined",
          "traceback": [
            "\u001b[0;31m---------------------------------------------------------------------------\u001b[0m",
            "\u001b[0;31mNameError\u001b[0m                                 Traceback (most recent call last)",
            "\u001b[0;32m<ipython-input-1-4aebf29e7f3b>\u001b[0m in \u001b[0;36m<cell line: 2>\u001b[0;34m()\u001b[0m\n\u001b[1;32m      1\u001b[0m \u001b[0;31m# load best model\u001b[0m\u001b[0;34m\u001b[0m\u001b[0;34m\u001b[0m\u001b[0m\n\u001b[0;32m----> 2\u001b[0;31m \u001b[0mmodel\u001b[0m\u001b[0;34m.\u001b[0m\u001b[0mload_weights\u001b[0m\u001b[0;34m(\u001b[0m\u001b[0;34mf\"best_model_{model.name}.weights.h5\"\u001b[0m\u001b[0;34m)\u001b[0m\u001b[0;34m\u001b[0m\u001b[0;34m\u001b[0m\u001b[0m\n\u001b[0m\u001b[1;32m      3\u001b[0m \u001b[0;34m\u001b[0m\u001b[0m\n\u001b[1;32m      4\u001b[0m \u001b[0;31m# ------------------------\u001b[0m\u001b[0;34m\u001b[0m\u001b[0;34m\u001b[0m\u001b[0m\n\u001b[1;32m      5\u001b[0m \u001b[0;31m# ---     Plotting     ---\u001b[0m\u001b[0;34m\u001b[0m\u001b[0;34m\u001b[0m\u001b[0m\n",
            "\u001b[0;31mNameError\u001b[0m: name 'model' is not defined"
          ]
        }
      ]
    },
    {
      "cell_type": "code",
      "metadata": {
        "id": "jErly75Vua2S",
        "outputId": "cb9f77b7-6b76-4d99-d394-0f02c1437c24",
        "colab": {
          "base_uri": "https://localhost:8080/"
        }
      },
      "source": [
        "# evaluate performance\n",
        "\n",
        "print(\"Model performance :\")\n",
        "headers = [\"\", \"Loss\", \"Accuracy\", \"Test error rate [%]\"]\n",
        "\n",
        "table = [\n",
        "    [\"Train\", *model.evaluate(x_train, y_train_onehot, verbose=0, batch_size=128), (1-model.evaluate(x_train, y_train_onehot, verbose=0, batch_size=128)[1])*100 ],\n",
        "    [\"Validation\", *model.evaluate(x_valid, y_valid_onehot, verbose=0, batch_size=128), (1-model.evaluate(x_valid, y_valid_onehot, verbose=0, batch_size=128)[1])*100 ],\n",
        "    [\"Test\", *model.evaluate(x_test, y_test_onehot, verbose=0, batch_size=128), (1-model.evaluate(x_test, y_test_onehot, verbose=0, batch_size=128)[1])*100 ],\n",
        "]\n",
        "\n",
        "print(tabulate(table, headers=headers, tablefmt=\"orgtbl\"))"
      ],
      "execution_count": 10,
      "outputs": [
        {
          "output_type": "stream",
          "name": "stdout",
          "text": [
            "Model performance :\n",
            "|            |   Loss |   Accuracy |   Test error rate [%] |\n",
            "|------------+--------+------------+-----------------------|\n",
            "| Train      |      0 |          1 |                     0 |\n",
            "| Validation |      0 |          1 |                     0 |\n",
            "| Test       |      0 |          1 |                     0 |\n"
          ]
        }
      ]
    },
    {
      "cell_type": "markdown",
      "metadata": {
        "id": "rOUk5R71GRUo"
      },
      "source": [
        "You can compare your own results with a variety of different models: http://yann.lecun.com/exdb/mnist/ and https://en.wikipedia.org/wiki/MNIST_database"
      ]
    },
    {
      "cell_type": "markdown",
      "metadata": {
        "id": "vj-JeG9_kIc-"
      },
      "source": [
        "The following codeblocks define some helper functions for plotting. You don't need to touch them"
      ]
    },
    {
      "cell_type": "code",
      "metadata": {
        "id": "kCxC5DPEkGLn"
      },
      "source": [
        "#@title\n",
        "def plot_image(X, ax=None):\n",
        "    \"\"\"Plot an image X.\n",
        "\n",
        "    Args:\n",
        "        X (2D array): image, grayscale or RGB\n",
        "        ax (None, optional): Description\n",
        "    \"\"\"\n",
        "    if ax is None:\n",
        "        ax = plt.gca()\n",
        "\n",
        "    if (X.ndim == 2) or (X.shape[-1] == 1):\n",
        "        ax.imshow(X.astype('uint8'), origin='upper', cmap=plt.cm.Greys)\n",
        "    else:\n",
        "        ax.imshow(X.astype('uint8'), origin='upper')\n",
        "\n",
        "    ax.set(xticks=[], yticks=[])\n",
        "\n",
        "def plot_prediction(Yp, X, y, classes=None, top_n=False):\n",
        "    \"\"\"Plot an image along with all or the top_n predictions.\n",
        "\n",
        "    Args:\n",
        "        Yp (1D array): predicted probabilities for each class\n",
        "        X (2D array): image\n",
        "        y (integer): true class label\n",
        "        classes (1D array, optional): class names\n",
        "        top_n (int, optional): number of top predictions to show\n",
        "    \"\"\"\n",
        "    fig, (ax1, ax2) = plt.subplots(1, 2, figsize=(6, 3.2))\n",
        "    plt.subplots_adjust(left=0.02, right=0.98, bottom=0.15, top=0.98, wspace=0.02)\n",
        "    plot_image(X, ax1)\n",
        "\n",
        "    if top_n:\n",
        "        n = top_n\n",
        "        s = np.argsort(Yp)[-top_n:]\n",
        "    else:\n",
        "        n = len(Yp)\n",
        "        s = np.arange(n)[::-1]\n",
        "\n",
        "    patches = ax2.barh(np.arange(n), Yp[s], align='center')\n",
        "    ax2.set(xlim=(0, 1), xlabel='Probability', yticks=[])\n",
        "\n",
        "    for iy, patch in zip(s, patches):\n",
        "        if iy == y:\n",
        "            patch.set_facecolor('C1')  # color correct patch\n",
        "\n",
        "    if classes is None:\n",
        "        classes = np.arange(0, np.size(Yp))\n",
        "\n",
        "    for i in range(n):\n",
        "        ax2.text(0.05, i, classes[s][i], ha='left', va='center')\n",
        "\n",
        "    plt.show()\n",
        "\n",
        "def plot_confusion(yp, y, classes=None, fname=None):\n",
        "    \"\"\"Plot confusion matrix for given true and predicted class labels\n",
        "\n",
        "    Args:\n",
        "        yp (1D array): predicted class labels\n",
        "        y (1D array): true class labels\n",
        "        classes (1D array): class names\n",
        "        fname (str, optional): filename for saving the plot\n",
        "    \"\"\"\n",
        "    if classes is None:\n",
        "        n = max(max(yp), max(y)) + 1\n",
        "        classes = np.arange(n)\n",
        "    else:\n",
        "        n = len(classes)\n",
        "\n",
        "    bins = np.linspace(-0.5, n - 0.5, n + 1)\n",
        "    C = np.histogram2d(y, yp, bins=bins)[0]\n",
        "    C = C / np.sum(C, axis=0) * 100\n",
        "\n",
        "    fig = plt.figure(figsize=(8, 8))\n",
        "    plt.imshow(C, interpolation='nearest', vmin=0, vmax=100, cmap=plt.cm.YlGnBu)\n",
        "    plt.gca().set_aspect('equal')\n",
        "    cbar = plt.colorbar(shrink=0.8)\n",
        "    cbar.set_label('Frequency %')\n",
        "    plt.xlabel('Prediction')\n",
        "    plt.ylabel('Truth')\n",
        "    plt.xticks(range(n), classes, rotation='vertical')\n",
        "    plt.yticks(range(n), classes)\n",
        "    for x in range(n):\n",
        "        for y in range(n):\n",
        "            if np.isnan(C[x, y]):\n",
        "                continue\n",
        "            color = 'white' if x == y else 'black'\n",
        "            plt.annotate('%.1f' % (C[x, y]), xy=(y, x), color=color, ha='center', va='center')\n",
        "\n",
        "    plt.show()"
      ],
      "execution_count": 12,
      "outputs": []
    },
    {
      "cell_type": "code",
      "metadata": {
        "id": "ZnfMRRv4kaKF",
        "outputId": "3f4fef31-f307-452d-f6f6-65861cbdb3d4",
        "colab": {
          "base_uri": "https://localhost:8080/",
          "height": 630
        }
      },
      "source": [
        "# plot a few examples, loop over test dataset:\n",
        "# get missidentified samples\n",
        "output = model.predict(x_test, batch_size=128)\n",
        "labels = np.argmax(y_test_onehot, axis=1)\n",
        "predictions = np.argmax(output, axis=1)\n",
        "plot_confusion(predictions, labels)\n",
        "\n",
        "for i in range(10): # loop over first 10 test samples\n",
        "    plot_prediction(output[i],\n",
        "                    255 * np.reshape(x_test[i], (28, 28)), # we need to reshape the data into an image and convert back to RGB color scale by multiplying with 255\n",
        "                    labels[i])\n"
      ],
      "execution_count": 14,
      "outputs": [
        {
          "output_type": "stream",
          "name": "stdout",
          "text": [
            "\u001b[1m63/63\u001b[0m \u001b[32m━━━━━━━━━━━━━━━━━━━━\u001b[0m\u001b[37m\u001b[0m \u001b[1m0s\u001b[0m 1ms/step\n"
          ]
        },
        {
          "output_type": "error",
          "ename": "ValueError",
          "evalue": "`bins[0]` must be positive, when an integer",
          "traceback": [
            "\u001b[0;31m---------------------------------------------------------------------------\u001b[0m",
            "\u001b[0;31mValueError\u001b[0m                                Traceback (most recent call last)",
            "\u001b[0;32m<ipython-input-14-9588e81d5e7d>\u001b[0m in \u001b[0;36m<cell line: 6>\u001b[0;34m()\u001b[0m\n\u001b[1;32m      4\u001b[0m \u001b[0mlabels\u001b[0m \u001b[0;34m=\u001b[0m \u001b[0mnp\u001b[0m\u001b[0;34m.\u001b[0m\u001b[0margmax\u001b[0m\u001b[0;34m(\u001b[0m\u001b[0my_test_onehot\u001b[0m\u001b[0;34m,\u001b[0m \u001b[0maxis\u001b[0m\u001b[0;34m=\u001b[0m\u001b[0;36m1\u001b[0m\u001b[0;34m)\u001b[0m\u001b[0;34m\u001b[0m\u001b[0;34m\u001b[0m\u001b[0m\n\u001b[1;32m      5\u001b[0m \u001b[0mpredictions\u001b[0m \u001b[0;34m=\u001b[0m \u001b[0mnp\u001b[0m\u001b[0;34m.\u001b[0m\u001b[0margmax\u001b[0m\u001b[0;34m(\u001b[0m\u001b[0moutput\u001b[0m\u001b[0;34m,\u001b[0m \u001b[0maxis\u001b[0m\u001b[0;34m=\u001b[0m\u001b[0;36m1\u001b[0m\u001b[0;34m)\u001b[0m\u001b[0;34m\u001b[0m\u001b[0;34m\u001b[0m\u001b[0m\n\u001b[0;32m----> 6\u001b[0;31m \u001b[0mplot_confusion\u001b[0m\u001b[0;34m(\u001b[0m\u001b[0mpredictions\u001b[0m\u001b[0;34m,\u001b[0m \u001b[0mlabels\u001b[0m\u001b[0;34m)\u001b[0m\u001b[0;34m\u001b[0m\u001b[0;34m\u001b[0m\u001b[0m\n\u001b[0m\u001b[1;32m      7\u001b[0m \u001b[0;34m\u001b[0m\u001b[0m\n\u001b[1;32m      8\u001b[0m \u001b[0;32mfor\u001b[0m \u001b[0mi\u001b[0m \u001b[0;32min\u001b[0m \u001b[0mrange\u001b[0m\u001b[0;34m(\u001b[0m\u001b[0;36m10\u001b[0m\u001b[0;34m)\u001b[0m\u001b[0;34m:\u001b[0m \u001b[0;31m# loop over first 10 test samples\u001b[0m\u001b[0;34m\u001b[0m\u001b[0;34m\u001b[0m\u001b[0m\n",
            "\u001b[0;32m<ipython-input-12-2ca868e38d53>\u001b[0m in \u001b[0;36mplot_confusion\u001b[0;34m(yp, y, classes, fname)\u001b[0m\n\u001b[1;32m     69\u001b[0m \u001b[0;34m\u001b[0m\u001b[0m\n\u001b[1;32m     70\u001b[0m     \u001b[0mbins\u001b[0m \u001b[0;34m=\u001b[0m \u001b[0mnp\u001b[0m\u001b[0;34m.\u001b[0m\u001b[0mlinspace\u001b[0m\u001b[0;34m(\u001b[0m\u001b[0;34m-\u001b[0m\u001b[0;36m0.5\u001b[0m\u001b[0;34m,\u001b[0m \u001b[0mn\u001b[0m \u001b[0;34m-\u001b[0m \u001b[0;36m0.5\u001b[0m\u001b[0;34m,\u001b[0m \u001b[0mn\u001b[0m \u001b[0;34m+\u001b[0m \u001b[0;36m1\u001b[0m\u001b[0;34m)\u001b[0m\u001b[0;34m\u001b[0m\u001b[0;34m\u001b[0m\u001b[0m\n\u001b[0;32m---> 71\u001b[0;31m     \u001b[0mC\u001b[0m \u001b[0;34m=\u001b[0m \u001b[0mnp\u001b[0m\u001b[0;34m.\u001b[0m\u001b[0mhistogram2d\u001b[0m\u001b[0;34m(\u001b[0m\u001b[0my\u001b[0m\u001b[0;34m,\u001b[0m \u001b[0myp\u001b[0m\u001b[0;34m,\u001b[0m \u001b[0mbins\u001b[0m\u001b[0;34m=\u001b[0m\u001b[0mbins\u001b[0m\u001b[0;34m)\u001b[0m\u001b[0;34m[\u001b[0m\u001b[0;36m0\u001b[0m\u001b[0;34m]\u001b[0m\u001b[0;34m\u001b[0m\u001b[0;34m\u001b[0m\u001b[0m\n\u001b[0m\u001b[1;32m     72\u001b[0m     \u001b[0mC\u001b[0m \u001b[0;34m=\u001b[0m \u001b[0mC\u001b[0m \u001b[0;34m/\u001b[0m \u001b[0mnp\u001b[0m\u001b[0;34m.\u001b[0m\u001b[0msum\u001b[0m\u001b[0;34m(\u001b[0m\u001b[0mC\u001b[0m\u001b[0;34m,\u001b[0m \u001b[0maxis\u001b[0m\u001b[0;34m=\u001b[0m\u001b[0;36m0\u001b[0m\u001b[0;34m)\u001b[0m \u001b[0;34m*\u001b[0m \u001b[0;36m100\u001b[0m\u001b[0;34m\u001b[0m\u001b[0;34m\u001b[0m\u001b[0m\n\u001b[1;32m     73\u001b[0m \u001b[0;34m\u001b[0m\u001b[0m\n",
            "\u001b[0;32m/usr/local/lib/python3.10/dist-packages/numpy/lib/twodim_base.py\u001b[0m in \u001b[0;36mhistogram2d\u001b[0;34m(x, y, bins, range, density, weights)\u001b[0m\n\u001b[1;32m    806\u001b[0m         \u001b[0mxedges\u001b[0m \u001b[0;34m=\u001b[0m \u001b[0myedges\u001b[0m \u001b[0;34m=\u001b[0m \u001b[0masarray\u001b[0m\u001b[0;34m(\u001b[0m\u001b[0mbins\u001b[0m\u001b[0;34m)\u001b[0m\u001b[0;34m\u001b[0m\u001b[0;34m\u001b[0m\u001b[0m\n\u001b[1;32m    807\u001b[0m         \u001b[0mbins\u001b[0m \u001b[0;34m=\u001b[0m \u001b[0;34m[\u001b[0m\u001b[0mxedges\u001b[0m\u001b[0;34m,\u001b[0m \u001b[0myedges\u001b[0m\u001b[0;34m]\u001b[0m\u001b[0;34m\u001b[0m\u001b[0;34m\u001b[0m\u001b[0m\n\u001b[0;32m--> 808\u001b[0;31m     \u001b[0mhist\u001b[0m\u001b[0;34m,\u001b[0m \u001b[0medges\u001b[0m \u001b[0;34m=\u001b[0m \u001b[0mhistogramdd\u001b[0m\u001b[0;34m(\u001b[0m\u001b[0;34m[\u001b[0m\u001b[0mx\u001b[0m\u001b[0;34m,\u001b[0m \u001b[0my\u001b[0m\u001b[0;34m]\u001b[0m\u001b[0;34m,\u001b[0m \u001b[0mbins\u001b[0m\u001b[0;34m,\u001b[0m \u001b[0mrange\u001b[0m\u001b[0;34m,\u001b[0m \u001b[0mdensity\u001b[0m\u001b[0;34m,\u001b[0m \u001b[0mweights\u001b[0m\u001b[0;34m)\u001b[0m\u001b[0;34m\u001b[0m\u001b[0;34m\u001b[0m\u001b[0m\n\u001b[0m\u001b[1;32m    809\u001b[0m     \u001b[0;32mreturn\u001b[0m \u001b[0mhist\u001b[0m\u001b[0;34m,\u001b[0m \u001b[0medges\u001b[0m\u001b[0;34m[\u001b[0m\u001b[0;36m0\u001b[0m\u001b[0;34m]\u001b[0m\u001b[0;34m,\u001b[0m \u001b[0medges\u001b[0m\u001b[0;34m[\u001b[0m\u001b[0;36m1\u001b[0m\u001b[0;34m]\u001b[0m\u001b[0;34m\u001b[0m\u001b[0;34m\u001b[0m\u001b[0m\n\u001b[1;32m    810\u001b[0m \u001b[0;34m\u001b[0m\u001b[0m\n",
            "\u001b[0;32m/usr/local/lib/python3.10/dist-packages/numpy/lib/histograms.py\u001b[0m in \u001b[0;36mhistogramdd\u001b[0;34m(sample, bins, range, density, weights)\u001b[0m\n\u001b[1;32m    999\u001b[0m         \u001b[0;32mif\u001b[0m \u001b[0mnp\u001b[0m\u001b[0;34m.\u001b[0m\u001b[0mndim\u001b[0m\u001b[0;34m(\u001b[0m\u001b[0mbins\u001b[0m\u001b[0;34m[\u001b[0m\u001b[0mi\u001b[0m\u001b[0;34m]\u001b[0m\u001b[0;34m)\u001b[0m \u001b[0;34m==\u001b[0m \u001b[0;36m0\u001b[0m\u001b[0;34m:\u001b[0m\u001b[0;34m\u001b[0m\u001b[0;34m\u001b[0m\u001b[0m\n\u001b[1;32m   1000\u001b[0m             \u001b[0;32mif\u001b[0m \u001b[0mbins\u001b[0m\u001b[0;34m[\u001b[0m\u001b[0mi\u001b[0m\u001b[0;34m]\u001b[0m \u001b[0;34m<\u001b[0m \u001b[0;36m1\u001b[0m\u001b[0;34m:\u001b[0m\u001b[0;34m\u001b[0m\u001b[0;34m\u001b[0m\u001b[0m\n\u001b[0;32m-> 1001\u001b[0;31m                 raise ValueError(\n\u001b[0m\u001b[1;32m   1002\u001b[0m                     '`bins[{}]` must be positive, when an integer'.format(i))\n\u001b[1;32m   1003\u001b[0m             \u001b[0msmin\u001b[0m\u001b[0;34m,\u001b[0m \u001b[0msmax\u001b[0m \u001b[0;34m=\u001b[0m \u001b[0m_get_outer_edges\u001b[0m\u001b[0;34m(\u001b[0m\u001b[0msample\u001b[0m\u001b[0;34m[\u001b[0m\u001b[0;34m:\u001b[0m\u001b[0;34m,\u001b[0m\u001b[0mi\u001b[0m\u001b[0;34m]\u001b[0m\u001b[0;34m,\u001b[0m \u001b[0mrange\u001b[0m\u001b[0;34m[\u001b[0m\u001b[0mi\u001b[0m\u001b[0;34m]\u001b[0m\u001b[0;34m)\u001b[0m\u001b[0;34m\u001b[0m\u001b[0;34m\u001b[0m\u001b[0m\n",
            "\u001b[0;31mValueError\u001b[0m: `bins[0]` must be positive, when an integer"
          ]
        }
      ]
    },
    {
      "cell_type": "code",
      "metadata": {
        "id": "YLaI35N6xUEe",
        "outputId": "3628b750-8cbe-4acd-dc7b-fe1f9594aab5",
        "colab": {
          "base_uri": "https://localhost:8080/",
          "height": 764
        }
      },
      "source": [
        "# now plot a few examples that were misclassified\n",
        "\n",
        "indices_miss = np.nonzero(predictions != labels)[0]\n",
        "x_missid = x_test[indices_miss]\n",
        "\n",
        "for i in indices_miss[:10]:\n",
        "    plot_prediction(output[i],\n",
        "                    255 * np.reshape(x_test[i], (28, 28)), # we need to reshape the data into an image and convert back to RGB color scale by multiplying with 255\n",
        "                    labels[i])\n",
        "\n",
        "# or plot 32 of them in a joint plot\n",
        "fig = plt.figure()\n",
        "ax = fig.add_subplot(111)\n",
        "plotdata = x_missid[:32]\n",
        "plotdata = np.hstack(np.concatenate(np.reshape(plotdata, (4, 8, 28, 28)), axis=1))\n",
        "ax.imshow(plotdata, cmap=\"gray\")\n"
      ],
      "execution_count": 15,
      "outputs": [
        {
          "output_type": "error",
          "ename": "ValueError",
          "evalue": "cannot reshape array of size 0 into shape (4,8,28,28)",
          "traceback": [
            "\u001b[0;31m---------------------------------------------------------------------------\u001b[0m",
            "\u001b[0;31mValueError\u001b[0m                                Traceback (most recent call last)",
            "\u001b[0;32m<ipython-input-15-64c33936e07a>\u001b[0m in \u001b[0;36m<cell line: 15>\u001b[0;34m()\u001b[0m\n\u001b[1;32m     13\u001b[0m \u001b[0max\u001b[0m \u001b[0;34m=\u001b[0m \u001b[0mfig\u001b[0m\u001b[0;34m.\u001b[0m\u001b[0madd_subplot\u001b[0m\u001b[0;34m(\u001b[0m\u001b[0;36m111\u001b[0m\u001b[0;34m)\u001b[0m\u001b[0;34m\u001b[0m\u001b[0;34m\u001b[0m\u001b[0m\n\u001b[1;32m     14\u001b[0m \u001b[0mplotdata\u001b[0m \u001b[0;34m=\u001b[0m \u001b[0mx_missid\u001b[0m\u001b[0;34m[\u001b[0m\u001b[0;34m:\u001b[0m\u001b[0;36m32\u001b[0m\u001b[0;34m]\u001b[0m\u001b[0;34m\u001b[0m\u001b[0;34m\u001b[0m\u001b[0m\n\u001b[0;32m---> 15\u001b[0;31m \u001b[0mplotdata\u001b[0m \u001b[0;34m=\u001b[0m \u001b[0mnp\u001b[0m\u001b[0;34m.\u001b[0m\u001b[0mhstack\u001b[0m\u001b[0;34m(\u001b[0m\u001b[0mnp\u001b[0m\u001b[0;34m.\u001b[0m\u001b[0mconcatenate\u001b[0m\u001b[0;34m(\u001b[0m\u001b[0mnp\u001b[0m\u001b[0;34m.\u001b[0m\u001b[0mreshape\u001b[0m\u001b[0;34m(\u001b[0m\u001b[0mplotdata\u001b[0m\u001b[0;34m,\u001b[0m \u001b[0;34m(\u001b[0m\u001b[0;36m4\u001b[0m\u001b[0;34m,\u001b[0m \u001b[0;36m8\u001b[0m\u001b[0;34m,\u001b[0m \u001b[0;36m28\u001b[0m\u001b[0;34m,\u001b[0m \u001b[0;36m28\u001b[0m\u001b[0;34m)\u001b[0m\u001b[0;34m)\u001b[0m\u001b[0;34m,\u001b[0m \u001b[0maxis\u001b[0m\u001b[0;34m=\u001b[0m\u001b[0;36m1\u001b[0m\u001b[0;34m)\u001b[0m\u001b[0;34m)\u001b[0m\u001b[0;34m\u001b[0m\u001b[0;34m\u001b[0m\u001b[0m\n\u001b[0m\u001b[1;32m     16\u001b[0m \u001b[0max\u001b[0m\u001b[0;34m.\u001b[0m\u001b[0mimshow\u001b[0m\u001b[0;34m(\u001b[0m\u001b[0mplotdata\u001b[0m\u001b[0;34m,\u001b[0m \u001b[0mcmap\u001b[0m\u001b[0;34m=\u001b[0m\u001b[0;34m\"gray\"\u001b[0m\u001b[0;34m)\u001b[0m\u001b[0;34m\u001b[0m\u001b[0;34m\u001b[0m\u001b[0m\n",
            "\u001b[0;32m/usr/local/lib/python3.10/dist-packages/numpy/core/fromnumeric.py\u001b[0m in \u001b[0;36mreshape\u001b[0;34m(a, newshape, order)\u001b[0m\n\u001b[1;32m    283\u001b[0m            [5, 6]])\n\u001b[1;32m    284\u001b[0m     \"\"\"\n\u001b[0;32m--> 285\u001b[0;31m     \u001b[0;32mreturn\u001b[0m \u001b[0m_wrapfunc\u001b[0m\u001b[0;34m(\u001b[0m\u001b[0ma\u001b[0m\u001b[0;34m,\u001b[0m \u001b[0;34m'reshape'\u001b[0m\u001b[0;34m,\u001b[0m \u001b[0mnewshape\u001b[0m\u001b[0;34m,\u001b[0m \u001b[0morder\u001b[0m\u001b[0;34m=\u001b[0m\u001b[0morder\u001b[0m\u001b[0;34m)\u001b[0m\u001b[0;34m\u001b[0m\u001b[0;34m\u001b[0m\u001b[0m\n\u001b[0m\u001b[1;32m    286\u001b[0m \u001b[0;34m\u001b[0m\u001b[0m\n\u001b[1;32m    287\u001b[0m \u001b[0;34m\u001b[0m\u001b[0m\n",
            "\u001b[0;32m/usr/local/lib/python3.10/dist-packages/numpy/core/fromnumeric.py\u001b[0m in \u001b[0;36m_wrapfunc\u001b[0;34m(obj, method, *args, **kwds)\u001b[0m\n\u001b[1;32m     57\u001b[0m \u001b[0;34m\u001b[0m\u001b[0m\n\u001b[1;32m     58\u001b[0m     \u001b[0;32mtry\u001b[0m\u001b[0;34m:\u001b[0m\u001b[0;34m\u001b[0m\u001b[0;34m\u001b[0m\u001b[0m\n\u001b[0;32m---> 59\u001b[0;31m         \u001b[0;32mreturn\u001b[0m \u001b[0mbound\u001b[0m\u001b[0;34m(\u001b[0m\u001b[0;34m*\u001b[0m\u001b[0margs\u001b[0m\u001b[0;34m,\u001b[0m \u001b[0;34m**\u001b[0m\u001b[0mkwds\u001b[0m\u001b[0;34m)\u001b[0m\u001b[0;34m\u001b[0m\u001b[0;34m\u001b[0m\u001b[0m\n\u001b[0m\u001b[1;32m     60\u001b[0m     \u001b[0;32mexcept\u001b[0m \u001b[0mTypeError\u001b[0m\u001b[0;34m:\u001b[0m\u001b[0;34m\u001b[0m\u001b[0;34m\u001b[0m\u001b[0m\n\u001b[1;32m     61\u001b[0m         \u001b[0;31m# A TypeError occurs if the object does have such a method in its\u001b[0m\u001b[0;34m\u001b[0m\u001b[0;34m\u001b[0m\u001b[0m\n",
            "\u001b[0;31mValueError\u001b[0m: cannot reshape array of size 0 into shape (4,8,28,28)"
          ]
        },
        {
          "output_type": "display_data",
          "data": {
            "text/plain": [
              "<Figure size 640x480 with 1 Axes>"
            ],
            "image/png": "[encoded data removed]"
          },
          "metadata": {}
        }
      ]
    },
    {
      "cell_type": "markdown",
      "metadata": {
        "id": "f4Ztv69IuffB"
      },
      "source": [
        "**Grid search**\n",
        "\n",
        "Let's search the two hyperparameters dropout and number of nodes. You can start from the template below.\n",
        "\n"
      ]
    },
    {
      "cell_type": "code",
      "metadata": {
        "id": "V1uWtuoMvHqM"
      },
      "source": [
        "dropout_values = ...\n",
        "n_neurons_values = ...\n",
        "results_gridsearch = np.zeros((len(dropout_values), len(n_neurons_values), 2))\n",
        "for iDrop, drop in enumerate(dropout_values):\n",
        "  for iN, n_neurons in enumerate(n_neurons_values):\n",
        "    model = tf.keras.models.Sequential([\n",
        "        layers.Dense(, input_shape=(784,)),\n",
        "        ...\n",
        "        layers.Dense(10),\n",
        "        layers.Activation('softmax')])  # softmax actication to transform output into probabiliites\n",
        "\n",
        "    model.compile(\n",
        "        loss='categorical_crossentropy',  # the recommended loss for a classification task is 'categorical_crossentropy' (see lecture for details)\n",
        "        optimizer=...),\n",
        "        metrics=['accuracy']) # we use accuracy to quanitfy to network performance.\n",
        "\n",
        "    results = model.fit(\n",
        "        x_train, y_train_onehot,\n",
        "        validation_data=(x_valid, y_valid_onehot),\n",
        "        batch_size=,\n",
        "        epochs=10,\n",
        "        verbose=0\n",
        "        )\n",
        "    t = model.evaluate(x_test, y_test_onehot, verbose=0, batch_size=128)\n",
        "    results_gridsearch[iDrop, iN] = t\n",
        "    print(f\"dropout = {drop:.2f}, {n_neurons} neurons -> accuracy {results_gridsearch[iDrop, iN][1]:.3f}, error rate = {100*(1-results_gridsearch[iDrop, iN][1]):.1f}%\")\n"
      ],
      "execution_count": null,
      "outputs": []
    },
    {
      "cell_type": "markdown",
      "metadata": {
        "id": "OFxu8vLL00DM"
      },
      "source": [
        "**Random seach**\n",
        "\n",
        "Now lets implement a random search. A random search allows us to scan more hyperparameters at once without more computing time. You can start from the template below.\n",
        "\n",
        "\n"
      ]
    },
    {
      "cell_type": "code",
      "metadata": {
        "id": "-Vg6oy8L06tP"
      },
      "source": [
        "N = 20 # number of trials\n",
        "search = {\n",
        "'batch_size': np.random.choice([16, 32, 64, 128, 256], N),\n",
        "'num_neurons': np.random.choice([8, 32, 128, 256, 512], N),\n",
        "'learn_rate': np.random.choice([-5,-4, -3, -2, -1],N),\n",
        "'activation': np.random.choice(['relu', 'elu', 'sigmoid', 'tanh'], N),\n",
        "'dropout': np.random.choice([0.0, 0.1, 0.2, 0.3, 0.5, 0.6], N),\n",
        "'val_acc': np.zeros(N)\n",
        "}\n",
        "\n",
        "for i in range(N):\n",
        "  # you can access the current value of the hyperparameter with `search['batch_size'][i]`\n",
        "  model = tf.keras.models.Sequential([\n",
        "                      tf.keras.layers.Dense(..., input_shape=(784,)),\n",
        "                      ...\n",
        "                      tf.keras.layers.Dense(10, activation='softmax')])\n",
        "  model.compile(loss='categorical_crossentropy',\n",
        "  optimizer=...\n",
        "  results = model.fit(\n",
        "        x_train, y_train_onehot,\n",
        "        validation_data=(x_valid, y_valid_onehot),\n",
        "        batch_size=...,\n",
        "        epochs=10,\n",
        "        verbose=0\n",
        "      )\n",
        "  search['val_acc'][i] = model.evaluate(x_test, y_test_onehot, verbose=0, batch_size=128)[1]\n",
        "  print(f\"iteration {i}:\")\n",
        "  for key in search:\n",
        "    print(f\"\\t{key}: {search[key][i]}\")\n",
        "  print(f\"\\t-> accuracy {search['val_acc'][i]:.3f}, error rate = {100*(1-search['val_acc'][i]):.1f}%\")\n"
      ],
      "execution_count": null,
      "outputs": []
    }
  ]
}